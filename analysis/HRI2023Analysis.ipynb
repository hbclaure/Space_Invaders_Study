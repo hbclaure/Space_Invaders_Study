{
 "cells": [
  {
   "cell_type": "markdown",
   "id": "e53ae5a5",
   "metadata": {},
   "source": []
  },
  {
   "cell_type": "code",
   "execution_count": 1,
   "id": "78139578",
   "metadata": {},
   "outputs": [],
   "source": [
    "import pandas as pd\n",
    "import numpy as np\n",
    "import os"
   ]
  },
  {
   "cell_type": "markdown",
   "id": "4b5bc6b6",
   "metadata": {},
   "source": [
    "# Load data"
   ]
  },
  {
   "cell_type": "code",
   "execution_count": 2,
   "id": "30fd24cd",
   "metadata": {},
   "outputs": [],
   "source": [
    "exclusions =  [\n",
    "    'pilot_jb',\n",
    "    'pilot_py',\n",
    "    'pilot_st',\n",
    "    'pilot_ah',\n",
    "    'P101', #recorded over rosbag\n",
    "    'P108', #turned off computer\n",
    "    'P106', #only played 3 games\n",
    "    'P174' #nao_action node died in game5\n",
    "]"
   ]
  },
  {
   "cell_type": "code",
   "execution_count": 3,
   "id": "5e22c584",
   "metadata": {},
   "outputs": [
    {
     "name": "stdout",
     "output_type": "stream",
     "text": [
      "Loaded 72 participants\n"
     ]
    }
   ],
   "source": [
    "## FILE NAMES\n",
    "DATA_DIR = \"../data\"\n",
    "q_csv = \"SpaceInvaders_NaoFeedback_September 7, 2022_09.43.csv\"\n",
    "conditions_csv = 'ParticipantURLs - Sheet1.csv'\n",
    "\n",
    "## LOAD SURVEY DATA AND CONDITIONS\n",
    "# load qualtrics csv\n",
    "qdf = pd.read_csv(os.path.join(DATA_DIR,q_csv), header=[0], skiprows=[1,2])\n",
    "# remove pilot participants (no ID)\n",
    "qdf = qdf.dropna(subset=['ID'], how='any')\n",
    "# remove extra columns\n",
    "qdf = qdf.drop(['PROLIFIC_PID','STUDY_ID','SESSION_ID','RecipientLastName','RecipientFirstName','RecipientEmail','ExternalReference'], axis=1)\n",
    "\n",
    "# remove excluded participants (including pilot)\n",
    "qdf = qdf[~qdf.ID.isin(exclusions)]\n",
    "\n",
    "# load condition csv and merge condition into qdf\n",
    "condition_df = pd.read_csv(os.path.join(DATA_DIR,conditions_csv), header=1, usecols=['ID','Condition'])\n",
    "qdf = qdf.merge(condition_df,on='ID', how='left')\n",
    "\n",
    "# add condition info\n",
    "condition_mapping = {'Condition':['A','B','C','D'],'Framing':['We','I','We','I'],'Timing':['Before','Before','After','After']}\n",
    "cm_df = pd.DataFrame(data=condition_mapping)\n",
    "qdf = qdf.merge(cm_df,on='Condition', how='left')\n",
    "\n",
    "print(f\"Loaded {qdf.shape[0]} participants\")\n",
    "\n",
    "#print(qdf['ID'])"
   ]
  },
  {
   "cell_type": "code",
   "execution_count": 34,
   "id": "088b09e0",
   "metadata": {},
   "outputs": [
    {
     "data": {
      "text/plain": [
       "Index(['StartDate', 'EndDate', 'Status', 'IPAddress', 'Progress',\n",
       "       'Duration (in seconds)', 'Finished', 'RecordedDate', 'ResponseId',\n",
       "       'LocationLatitude',\n",
       "       ...\n",
       "       'Framing', 'Timing', 'FEEDBACK_SELECTWHEN_1', 'FEEDBACK_SELECTWHEN_2',\n",
       "       'FEEDBACK_SELECTWHEN_3', 'FEEDBACK_SELECTWHEN_4',\n",
       "       'FEEDBACK_SELECTWHEN_5', 'FEEDBACK_SELECTWHEN_6',\n",
       "       'FEEDBACK_SELECTWHEN_7', 'FEEDBACK_SELECTWHEN_8'],\n",
       "      dtype='object', length=148)"
      ]
     },
     "execution_count": 34,
     "metadata": {},
     "output_type": "execute_result"
    }
   ],
   "source": [
    "qdf.columns"
   ]
  },
  {
   "cell_type": "code",
   "execution_count": 4,
   "id": "c753cd54",
   "metadata": {},
   "outputs": [],
   "source": [
    "# categorical questions\n",
    "qdf['GENDER'] = qdf['GENDER'].replace([1,2,3,4],['1_Male','2_Female','3_Nonbinary','4_PreferNotToSay'])\n",
    "qdf['STUD'] = qdf['STUD'].replace([1,2],['1_Yes','2_No'])\n",
    "qdf['SI'] = qdf['SI'].replace([1,2,3],['1_Yes','2_No','3_NotSure'])\n",
    "\n",
    "qdf['RU_UNUS'] = qdf['RU_UNUS'].replace([1,2,3],['1_Yes','2_No','3_NotSure'])\n",
    "qdf['RE_UNUS'] = qdf['RE_UNUS'].replace([1,2,3],['1_Yes','2_No','3_NotSure'])\n",
    "qdf['RL_UNUS'] = qdf['RL_UNUS'].replace([1,2,3],['1_Yes','2_No','3_NotSure'])\n",
    "\n",
    "qdf['RE_MANIP_TIMING'] = qdf['RE_MANIP_TIMING'].replace([1,2,3,4],['1_DontRememberReminder','2_Before','3_After','4_DontRememberOrdering'])\n",
    "\n",
    "qdf['BEH_PREF'] = qdf['BEH_PREF'].replace([1,2,3,4],['1_Uncoop','2_Early','3_Late','4_NoPref'])\n"
   ]
  },
  {
   "cell_type": "markdown",
   "id": "2e5430c2",
   "metadata": {},
   "source": [
    "## Gender splits\n",
    "1 = Male\n",
    "\n",
    "2 = Female\n",
    "\n",
    "3 = Nonbinary\n",
    "\n",
    "4 = Prefer not to say"
   ]
  },
  {
   "cell_type": "code",
   "execution_count": 5,
   "id": "2268ccb7",
   "metadata": {},
   "outputs": [
    {
     "data": {
      "text/plain": [
       "GENDER\n",
       "1_Male      34\n",
       "2_Female    38\n",
       "Name: GENDER, dtype: int64"
      ]
     },
     "execution_count": 5,
     "metadata": {},
     "output_type": "execute_result"
    }
   ],
   "source": [
    "qdf.groupby('GENDER')['GENDER'].count()"
   ]
  },
  {
   "cell_type": "code",
   "execution_count": 6,
   "id": "114132af",
   "metadata": {},
   "outputs": [
    {
     "data": {
      "text/html": [
       "<div>\n",
       "<style scoped>\n",
       "    .dataframe tbody tr th:only-of-type {\n",
       "        vertical-align: middle;\n",
       "    }\n",
       "\n",
       "    .dataframe tbody tr th {\n",
       "        vertical-align: top;\n",
       "    }\n",
       "\n",
       "    .dataframe thead th {\n",
       "        text-align: right;\n",
       "    }\n",
       "</style>\n",
       "<table border=\"1\" class=\"dataframe\">\n",
       "  <thead>\n",
       "    <tr style=\"text-align: right;\">\n",
       "      <th>GENDER</th>\n",
       "      <th>1_Male</th>\n",
       "      <th>2_Female</th>\n",
       "    </tr>\n",
       "    <tr>\n",
       "      <th>Condition</th>\n",
       "      <th></th>\n",
       "      <th></th>\n",
       "    </tr>\n",
       "  </thead>\n",
       "  <tbody>\n",
       "    <tr>\n",
       "      <th>A</th>\n",
       "      <td>9</td>\n",
       "      <td>9</td>\n",
       "    </tr>\n",
       "    <tr>\n",
       "      <th>B</th>\n",
       "      <td>8</td>\n",
       "      <td>10</td>\n",
       "    </tr>\n",
       "    <tr>\n",
       "      <th>C</th>\n",
       "      <td>8</td>\n",
       "      <td>10</td>\n",
       "    </tr>\n",
       "    <tr>\n",
       "      <th>D</th>\n",
       "      <td>9</td>\n",
       "      <td>9</td>\n",
       "    </tr>\n",
       "  </tbody>\n",
       "</table>\n",
       "</div>"
      ],
      "text/plain": [
       "GENDER     1_Male  2_Female\n",
       "Condition                  \n",
       "A               9         9\n",
       "B               8        10\n",
       "C               8        10\n",
       "D               9         9"
      ]
     },
     "execution_count": 6,
     "metadata": {},
     "output_type": "execute_result"
    }
   ],
   "source": [
    "pd.crosstab(qdf['Condition'],qdf['GENDER'])\n",
    "#pd.crosstab(qdf['GENDER'], [qdf['Timing'], qdf['Framing']], rownames=['Gender'], colnames=['Timing', 'Framing'])\n"
   ]
  },
  {
   "cell_type": "code",
   "execution_count": 7,
   "id": "6c1312e4",
   "metadata": {},
   "outputs": [
    {
     "data": {
      "text/html": [
       "<div>\n",
       "<style scoped>\n",
       "    .dataframe tbody tr th:only-of-type {\n",
       "        vertical-align: middle;\n",
       "    }\n",
       "\n",
       "    .dataframe tbody tr th {\n",
       "        vertical-align: top;\n",
       "    }\n",
       "\n",
       "    .dataframe thead th {\n",
       "        text-align: right;\n",
       "    }\n",
       "</style>\n",
       "<table border=\"1\" class=\"dataframe\">\n",
       "  <thead>\n",
       "    <tr style=\"text-align: right;\">\n",
       "      <th>GENDER</th>\n",
       "      <th>1_Male</th>\n",
       "      <th>2_Female</th>\n",
       "    </tr>\n",
       "    <tr>\n",
       "      <th>Framing</th>\n",
       "      <th></th>\n",
       "      <th></th>\n",
       "    </tr>\n",
       "  </thead>\n",
       "  <tbody>\n",
       "    <tr>\n",
       "      <th>I</th>\n",
       "      <td>17</td>\n",
       "      <td>19</td>\n",
       "    </tr>\n",
       "    <tr>\n",
       "      <th>We</th>\n",
       "      <td>17</td>\n",
       "      <td>19</td>\n",
       "    </tr>\n",
       "  </tbody>\n",
       "</table>\n",
       "</div>"
      ],
      "text/plain": [
       "GENDER   1_Male  2_Female\n",
       "Framing                  \n",
       "I            17        19\n",
       "We           17        19"
      ]
     },
     "execution_count": 7,
     "metadata": {},
     "output_type": "execute_result"
    }
   ],
   "source": [
    "pd.crosstab(qdf['Framing'],qdf['GENDER'])"
   ]
  },
  {
   "cell_type": "code",
   "execution_count": 8,
   "id": "df58e8a1",
   "metadata": {},
   "outputs": [
    {
     "data": {
      "text/html": [
       "<div>\n",
       "<style scoped>\n",
       "    .dataframe tbody tr th:only-of-type {\n",
       "        vertical-align: middle;\n",
       "    }\n",
       "\n",
       "    .dataframe tbody tr th {\n",
       "        vertical-align: top;\n",
       "    }\n",
       "\n",
       "    .dataframe thead th {\n",
       "        text-align: right;\n",
       "    }\n",
       "</style>\n",
       "<table border=\"1\" class=\"dataframe\">\n",
       "  <thead>\n",
       "    <tr style=\"text-align: right;\">\n",
       "      <th>GENDER</th>\n",
       "      <th>1_Male</th>\n",
       "      <th>2_Female</th>\n",
       "    </tr>\n",
       "    <tr>\n",
       "      <th>Timing</th>\n",
       "      <th></th>\n",
       "      <th></th>\n",
       "    </tr>\n",
       "  </thead>\n",
       "  <tbody>\n",
       "    <tr>\n",
       "      <th>After</th>\n",
       "      <td>17</td>\n",
       "      <td>19</td>\n",
       "    </tr>\n",
       "    <tr>\n",
       "      <th>Before</th>\n",
       "      <td>17</td>\n",
       "      <td>19</td>\n",
       "    </tr>\n",
       "  </tbody>\n",
       "</table>\n",
       "</div>"
      ],
      "text/plain": [
       "GENDER  1_Male  2_Female\n",
       "Timing                  \n",
       "After       17        19\n",
       "Before      17        19"
      ]
     },
     "execution_count": 8,
     "metadata": {},
     "output_type": "execute_result"
    }
   ],
   "source": [
    "pd.crosstab(qdf['Timing'],qdf['GENDER'])"
   ]
  },
  {
   "cell_type": "markdown",
   "id": "ce830ff0",
   "metadata": {},
   "source": [
    "## Age info"
   ]
  },
  {
   "cell_type": "code",
   "execution_count": 9,
   "id": "237d961c",
   "metadata": {},
   "outputs": [
    {
     "data": {
      "text/plain": [
       "count    72.000000\n",
       "mean     24.722222\n",
       "std       6.699216\n",
       "min      18.000000\n",
       "25%      20.000000\n",
       "50%      23.000000\n",
       "75%      27.000000\n",
       "max      53.000000\n",
       "Name: AGE, dtype: float64"
      ]
     },
     "execution_count": 9,
     "metadata": {},
     "output_type": "execute_result"
    }
   ],
   "source": [
    "qdf['AGE'].describe()"
   ]
  },
  {
   "cell_type": "code",
   "execution_count": 10,
   "id": "d0bfc755",
   "metadata": {},
   "outputs": [
    {
     "data": {
      "text/html": [
       "<div>\n",
       "<style scoped>\n",
       "    .dataframe tbody tr th:only-of-type {\n",
       "        vertical-align: middle;\n",
       "    }\n",
       "\n",
       "    .dataframe tbody tr th {\n",
       "        vertical-align: top;\n",
       "    }\n",
       "\n",
       "    .dataframe thead th {\n",
       "        text-align: right;\n",
       "    }\n",
       "</style>\n",
       "<table border=\"1\" class=\"dataframe\">\n",
       "  <thead>\n",
       "    <tr style=\"text-align: right;\">\n",
       "      <th></th>\n",
       "      <th>mean</th>\n",
       "      <th>std</th>\n",
       "    </tr>\n",
       "    <tr>\n",
       "      <th>Condition</th>\n",
       "      <th></th>\n",
       "      <th></th>\n",
       "    </tr>\n",
       "  </thead>\n",
       "  <tbody>\n",
       "    <tr>\n",
       "      <th>A</th>\n",
       "      <td>24.833333</td>\n",
       "      <td>6.166799</td>\n",
       "    </tr>\n",
       "    <tr>\n",
       "      <th>B</th>\n",
       "      <td>23.777778</td>\n",
       "      <td>6.112240</td>\n",
       "    </tr>\n",
       "    <tr>\n",
       "      <th>C</th>\n",
       "      <td>23.777778</td>\n",
       "      <td>3.573687</td>\n",
       "    </tr>\n",
       "    <tr>\n",
       "      <th>D</th>\n",
       "      <td>26.500000</td>\n",
       "      <td>9.696876</td>\n",
       "    </tr>\n",
       "  </tbody>\n",
       "</table>\n",
       "</div>"
      ],
      "text/plain": [
       "                mean       std\n",
       "Condition                     \n",
       "A          24.833333  6.166799\n",
       "B          23.777778  6.112240\n",
       "C          23.777778  3.573687\n",
       "D          26.500000  9.696876"
      ]
     },
     "execution_count": 10,
     "metadata": {},
     "output_type": "execute_result"
    }
   ],
   "source": [
    "qdf.groupby(\"Condition\")['AGE'].describe()[['mean','std']]"
   ]
  },
  {
   "cell_type": "code",
   "execution_count": 11,
   "id": "d7027054",
   "metadata": {},
   "outputs": [
    {
     "data": {
      "text/html": [
       "<div>\n",
       "<style scoped>\n",
       "    .dataframe tbody tr th:only-of-type {\n",
       "        vertical-align: middle;\n",
       "    }\n",
       "\n",
       "    .dataframe tbody tr th {\n",
       "        vertical-align: top;\n",
       "    }\n",
       "\n",
       "    .dataframe thead th {\n",
       "        text-align: right;\n",
       "    }\n",
       "</style>\n",
       "<table border=\"1\" class=\"dataframe\">\n",
       "  <thead>\n",
       "    <tr style=\"text-align: right;\">\n",
       "      <th></th>\n",
       "      <th>count</th>\n",
       "      <th>mean</th>\n",
       "      <th>std</th>\n",
       "      <th>min</th>\n",
       "      <th>25%</th>\n",
       "      <th>50%</th>\n",
       "      <th>75%</th>\n",
       "      <th>max</th>\n",
       "    </tr>\n",
       "    <tr>\n",
       "      <th>Framing</th>\n",
       "      <th></th>\n",
       "      <th></th>\n",
       "      <th></th>\n",
       "      <th></th>\n",
       "      <th></th>\n",
       "      <th></th>\n",
       "      <th></th>\n",
       "      <th></th>\n",
       "    </tr>\n",
       "  </thead>\n",
       "  <tbody>\n",
       "    <tr>\n",
       "      <th>I</th>\n",
       "      <td>36.0</td>\n",
       "      <td>25.138889</td>\n",
       "      <td>8.106973</td>\n",
       "      <td>18.0</td>\n",
       "      <td>19.75</td>\n",
       "      <td>23.0</td>\n",
       "      <td>27.25</td>\n",
       "      <td>53.0</td>\n",
       "    </tr>\n",
       "    <tr>\n",
       "      <th>We</th>\n",
       "      <td>36.0</td>\n",
       "      <td>24.305556</td>\n",
       "      <td>4.996110</td>\n",
       "      <td>18.0</td>\n",
       "      <td>20.00</td>\n",
       "      <td>23.0</td>\n",
       "      <td>26.25</td>\n",
       "      <td>42.0</td>\n",
       "    </tr>\n",
       "  </tbody>\n",
       "</table>\n",
       "</div>"
      ],
      "text/plain": [
       "         count       mean       std   min    25%   50%    75%   max\n",
       "Framing                                                            \n",
       "I         36.0  25.138889  8.106973  18.0  19.75  23.0  27.25  53.0\n",
       "We        36.0  24.305556  4.996110  18.0  20.00  23.0  26.25  42.0"
      ]
     },
     "execution_count": 11,
     "metadata": {},
     "output_type": "execute_result"
    }
   ],
   "source": [
    "qdf.groupby(\"Framing\")['AGE'].describe()"
   ]
  },
  {
   "cell_type": "code",
   "execution_count": 12,
   "id": "daf8f540",
   "metadata": {},
   "outputs": [
    {
     "data": {
      "text/html": [
       "<div>\n",
       "<style scoped>\n",
       "    .dataframe tbody tr th:only-of-type {\n",
       "        vertical-align: middle;\n",
       "    }\n",
       "\n",
       "    .dataframe tbody tr th {\n",
       "        vertical-align: top;\n",
       "    }\n",
       "\n",
       "    .dataframe thead th {\n",
       "        text-align: right;\n",
       "    }\n",
       "</style>\n",
       "<table border=\"1\" class=\"dataframe\">\n",
       "  <thead>\n",
       "    <tr style=\"text-align: right;\">\n",
       "      <th></th>\n",
       "      <th>count</th>\n",
       "      <th>mean</th>\n",
       "      <th>std</th>\n",
       "      <th>min</th>\n",
       "      <th>25%</th>\n",
       "      <th>50%</th>\n",
       "      <th>75%</th>\n",
       "      <th>max</th>\n",
       "    </tr>\n",
       "    <tr>\n",
       "      <th>Timing</th>\n",
       "      <th></th>\n",
       "      <th></th>\n",
       "      <th></th>\n",
       "      <th></th>\n",
       "      <th></th>\n",
       "      <th></th>\n",
       "      <th></th>\n",
       "      <th></th>\n",
       "    </tr>\n",
       "  </thead>\n",
       "  <tbody>\n",
       "    <tr>\n",
       "      <th>After</th>\n",
       "      <td>36.0</td>\n",
       "      <td>25.138889</td>\n",
       "      <td>7.333496</td>\n",
       "      <td>19.0</td>\n",
       "      <td>20.75</td>\n",
       "      <td>23.0</td>\n",
       "      <td>26.5</td>\n",
       "      <td>53.0</td>\n",
       "    </tr>\n",
       "    <tr>\n",
       "      <th>Before</th>\n",
       "      <td>36.0</td>\n",
       "      <td>24.305556</td>\n",
       "      <td>6.074864</td>\n",
       "      <td>18.0</td>\n",
       "      <td>20.00</td>\n",
       "      <td>23.0</td>\n",
       "      <td>27.0</td>\n",
       "      <td>44.0</td>\n",
       "    </tr>\n",
       "  </tbody>\n",
       "</table>\n",
       "</div>"
      ],
      "text/plain": [
       "        count       mean       std   min    25%   50%   75%   max\n",
       "Timing                                                           \n",
       "After    36.0  25.138889  7.333496  19.0  20.75  23.0  26.5  53.0\n",
       "Before   36.0  24.305556  6.074864  18.0  20.00  23.0  27.0  44.0"
      ]
     },
     "execution_count": 12,
     "metadata": {},
     "output_type": "execute_result"
    }
   ],
   "source": [
    "qdf.groupby(\"Timing\")['AGE'].describe()"
   ]
  },
  {
   "cell_type": "markdown",
   "id": "7b934259",
   "metadata": {},
   "source": [
    "## Other dem"
   ]
  },
  {
   "cell_type": "markdown",
   "id": "6ed7755b",
   "metadata": {},
   "source": [
    "Have you ever played the video game Space Invaders before?"
   ]
  },
  {
   "cell_type": "code",
   "execution_count": 13,
   "id": "7a3d3364",
   "metadata": {},
   "outputs": [
    {
     "data": {
      "text/html": [
       "<div>\n",
       "<style scoped>\n",
       "    .dataframe tbody tr th:only-of-type {\n",
       "        vertical-align: middle;\n",
       "    }\n",
       "\n",
       "    .dataframe tbody tr th {\n",
       "        vertical-align: top;\n",
       "    }\n",
       "\n",
       "    .dataframe thead th {\n",
       "        text-align: right;\n",
       "    }\n",
       "</style>\n",
       "<table border=\"1\" class=\"dataframe\">\n",
       "  <thead>\n",
       "    <tr style=\"text-align: right;\">\n",
       "      <th>SI</th>\n",
       "      <th>1_Yes</th>\n",
       "      <th>2_No</th>\n",
       "      <th>3_NotSure</th>\n",
       "    </tr>\n",
       "    <tr>\n",
       "      <th>Condition</th>\n",
       "      <th></th>\n",
       "      <th></th>\n",
       "      <th></th>\n",
       "    </tr>\n",
       "  </thead>\n",
       "  <tbody>\n",
       "    <tr>\n",
       "      <th>A</th>\n",
       "      <td>4</td>\n",
       "      <td>10</td>\n",
       "      <td>4</td>\n",
       "    </tr>\n",
       "    <tr>\n",
       "      <th>B</th>\n",
       "      <td>4</td>\n",
       "      <td>11</td>\n",
       "      <td>3</td>\n",
       "    </tr>\n",
       "    <tr>\n",
       "      <th>C</th>\n",
       "      <td>3</td>\n",
       "      <td>6</td>\n",
       "      <td>9</td>\n",
       "    </tr>\n",
       "    <tr>\n",
       "      <th>D</th>\n",
       "      <td>5</td>\n",
       "      <td>8</td>\n",
       "      <td>5</td>\n",
       "    </tr>\n",
       "  </tbody>\n",
       "</table>\n",
       "</div>"
      ],
      "text/plain": [
       "SI         1_Yes  2_No  3_NotSure\n",
       "Condition                        \n",
       "A              4    10          4\n",
       "B              4    11          3\n",
       "C              3     6          9\n",
       "D              5     8          5"
      ]
     },
     "execution_count": 13,
     "metadata": {},
     "output_type": "execute_result"
    }
   ],
   "source": [
    "pd.crosstab(qdf['Condition'],qdf['SI'])"
   ]
  },
  {
   "cell_type": "code",
   "execution_count": 14,
   "id": "cd10c2ba",
   "metadata": {},
   "outputs": [
    {
     "data": {
      "text/html": [
       "<div>\n",
       "<style scoped>\n",
       "    .dataframe tbody tr th:only-of-type {\n",
       "        vertical-align: middle;\n",
       "    }\n",
       "\n",
       "    .dataframe tbody tr th {\n",
       "        vertical-align: top;\n",
       "    }\n",
       "\n",
       "    .dataframe thead th {\n",
       "        text-align: right;\n",
       "    }\n",
       "</style>\n",
       "<table border=\"1\" class=\"dataframe\">\n",
       "  <thead>\n",
       "    <tr style=\"text-align: right;\">\n",
       "      <th>SI</th>\n",
       "      <th>1_Yes</th>\n",
       "      <th>2_No</th>\n",
       "      <th>3_NotSure</th>\n",
       "    </tr>\n",
       "    <tr>\n",
       "      <th>Framing</th>\n",
       "      <th></th>\n",
       "      <th></th>\n",
       "      <th></th>\n",
       "    </tr>\n",
       "  </thead>\n",
       "  <tbody>\n",
       "    <tr>\n",
       "      <th>I</th>\n",
       "      <td>9</td>\n",
       "      <td>19</td>\n",
       "      <td>8</td>\n",
       "    </tr>\n",
       "    <tr>\n",
       "      <th>We</th>\n",
       "      <td>7</td>\n",
       "      <td>16</td>\n",
       "      <td>13</td>\n",
       "    </tr>\n",
       "  </tbody>\n",
       "</table>\n",
       "</div>"
      ],
      "text/plain": [
       "SI       1_Yes  2_No  3_NotSure\n",
       "Framing                        \n",
       "I            9    19          8\n",
       "We           7    16         13"
      ]
     },
     "execution_count": 14,
     "metadata": {},
     "output_type": "execute_result"
    }
   ],
   "source": [
    "pd.crosstab(qdf['Framing'],qdf['SI'])"
   ]
  },
  {
   "cell_type": "code",
   "execution_count": 15,
   "id": "37ab7cb9",
   "metadata": {},
   "outputs": [
    {
     "data": {
      "text/html": [
       "<div>\n",
       "<style scoped>\n",
       "    .dataframe tbody tr th:only-of-type {\n",
       "        vertical-align: middle;\n",
       "    }\n",
       "\n",
       "    .dataframe tbody tr th {\n",
       "        vertical-align: top;\n",
       "    }\n",
       "\n",
       "    .dataframe thead th {\n",
       "        text-align: right;\n",
       "    }\n",
       "</style>\n",
       "<table border=\"1\" class=\"dataframe\">\n",
       "  <thead>\n",
       "    <tr style=\"text-align: right;\">\n",
       "      <th>SI</th>\n",
       "      <th>1_Yes</th>\n",
       "      <th>2_No</th>\n",
       "      <th>3_NotSure</th>\n",
       "    </tr>\n",
       "    <tr>\n",
       "      <th>Timing</th>\n",
       "      <th></th>\n",
       "      <th></th>\n",
       "      <th></th>\n",
       "    </tr>\n",
       "  </thead>\n",
       "  <tbody>\n",
       "    <tr>\n",
       "      <th>After</th>\n",
       "      <td>8</td>\n",
       "      <td>14</td>\n",
       "      <td>14</td>\n",
       "    </tr>\n",
       "    <tr>\n",
       "      <th>Before</th>\n",
       "      <td>8</td>\n",
       "      <td>21</td>\n",
       "      <td>7</td>\n",
       "    </tr>\n",
       "  </tbody>\n",
       "</table>\n",
       "</div>"
      ],
      "text/plain": [
       "SI      1_Yes  2_No  3_NotSure\n",
       "Timing                        \n",
       "After       8    14         14\n",
       "Before      8    21          7"
      ]
     },
     "execution_count": 15,
     "metadata": {},
     "output_type": "execute_result"
    }
   ],
   "source": [
    "pd.crosstab(qdf['Timing'],qdf['SI'])"
   ]
  },
  {
   "cell_type": "markdown",
   "id": "b8d53fc3",
   "metadata": {},
   "source": [
    "**How often do you... interact with robots?**\n",
    "\n",
    "1: Daily\n",
    "\n",
    "2: 4-6 times a week\n",
    "\n",
    "3: 2-3 times a week\n",
    "\n",
    "4: Once a week\n",
    "\n",
    "5: Once a month\n",
    "\n",
    "6: Less than once a month"
   ]
  },
  {
   "cell_type": "code",
   "execution_count": 16,
   "id": "242d81a0",
   "metadata": {},
   "outputs": [
    {
     "data": {
      "text/html": [
       "<div>\n",
       "<style scoped>\n",
       "    .dataframe tbody tr th:only-of-type {\n",
       "        vertical-align: middle;\n",
       "    }\n",
       "\n",
       "    .dataframe tbody tr th {\n",
       "        vertical-align: top;\n",
       "    }\n",
       "\n",
       "    .dataframe thead th {\n",
       "        text-align: right;\n",
       "    }\n",
       "</style>\n",
       "<table border=\"1\" class=\"dataframe\">\n",
       "  <thead>\n",
       "    <tr style=\"text-align: right;\">\n",
       "      <th></th>\n",
       "      <th>count</th>\n",
       "      <th>mean</th>\n",
       "      <th>std</th>\n",
       "      <th>min</th>\n",
       "      <th>25%</th>\n",
       "      <th>50%</th>\n",
       "      <th>75%</th>\n",
       "      <th>max</th>\n",
       "    </tr>\n",
       "    <tr>\n",
       "      <th>Condition</th>\n",
       "      <th></th>\n",
       "      <th></th>\n",
       "      <th></th>\n",
       "      <th></th>\n",
       "      <th></th>\n",
       "      <th></th>\n",
       "      <th></th>\n",
       "      <th></th>\n",
       "    </tr>\n",
       "  </thead>\n",
       "  <tbody>\n",
       "    <tr>\n",
       "      <th>A</th>\n",
       "      <td>18.0</td>\n",
       "      <td>5.277778</td>\n",
       "      <td>1.601674</td>\n",
       "      <td>1.0</td>\n",
       "      <td>5.25</td>\n",
       "      <td>6.0</td>\n",
       "      <td>6.0</td>\n",
       "      <td>6.0</td>\n",
       "    </tr>\n",
       "    <tr>\n",
       "      <th>B</th>\n",
       "      <td>18.0</td>\n",
       "      <td>5.388889</td>\n",
       "      <td>1.036901</td>\n",
       "      <td>3.0</td>\n",
       "      <td>5.00</td>\n",
       "      <td>6.0</td>\n",
       "      <td>6.0</td>\n",
       "      <td>6.0</td>\n",
       "    </tr>\n",
       "    <tr>\n",
       "      <th>C</th>\n",
       "      <td>18.0</td>\n",
       "      <td>4.555556</td>\n",
       "      <td>1.822158</td>\n",
       "      <td>1.0</td>\n",
       "      <td>3.25</td>\n",
       "      <td>5.5</td>\n",
       "      <td>6.0</td>\n",
       "      <td>6.0</td>\n",
       "    </tr>\n",
       "    <tr>\n",
       "      <th>D</th>\n",
       "      <td>18.0</td>\n",
       "      <td>4.944444</td>\n",
       "      <td>1.924218</td>\n",
       "      <td>1.0</td>\n",
       "      <td>4.50</td>\n",
       "      <td>6.0</td>\n",
       "      <td>6.0</td>\n",
       "      <td>6.0</td>\n",
       "    </tr>\n",
       "  </tbody>\n",
       "</table>\n",
       "</div>"
      ],
      "text/plain": [
       "           count      mean       std  min   25%  50%  75%  max\n",
       "Condition                                                     \n",
       "A           18.0  5.277778  1.601674  1.0  5.25  6.0  6.0  6.0\n",
       "B           18.0  5.388889  1.036901  3.0  5.00  6.0  6.0  6.0\n",
       "C           18.0  4.555556  1.822158  1.0  3.25  5.5  6.0  6.0\n",
       "D           18.0  4.944444  1.924218  1.0  4.50  6.0  6.0  6.0"
      ]
     },
     "execution_count": 16,
     "metadata": {},
     "output_type": "execute_result"
    }
   ],
   "source": [
    "qdf.groupby(\"Condition\")['OFTEN_3_R'].describe()"
   ]
  },
  {
   "cell_type": "code",
   "execution_count": 17,
   "id": "93a7f4af",
   "metadata": {},
   "outputs": [
    {
     "data": {
      "text/plain": [
       "count    72.000000\n",
       "mean      4.222222\n",
       "std       1.654888\n",
       "min       1.000000\n",
       "25%       3.000000\n",
       "50%       4.000000\n",
       "75%       6.000000\n",
       "max       6.000000\n",
       "Name: OFTEN_2_V, dtype: float64"
      ]
     },
     "execution_count": 17,
     "metadata": {},
     "output_type": "execute_result"
    }
   ],
   "source": [
    "qdf['OFTEN_2_V'].describe()"
   ]
  },
  {
   "cell_type": "code",
   "execution_count": 18,
   "id": "f8d8e017",
   "metadata": {},
   "outputs": [
    {
     "data": {
      "text/plain": [
       "count    72.000000\n",
       "mean      5.041667\n",
       "std       1.631015\n",
       "min       1.000000\n",
       "25%       5.000000\n",
       "50%       6.000000\n",
       "75%       6.000000\n",
       "max       6.000000\n",
       "Name: OFTEN_3_R, dtype: float64"
      ]
     },
     "execution_count": 18,
     "metadata": {},
     "output_type": "execute_result"
    }
   ],
   "source": [
    "qdf['OFTEN_3_R'].describe()"
   ]
  },
  {
   "cell_type": "code",
   "execution_count": 19,
   "id": "0175708b",
   "metadata": {},
   "outputs": [
    {
     "data": {
      "text/plain": [
       "OFTEN_3_R\n",
       "1    0.097222\n",
       "2    0.013889\n",
       "3    0.055556\n",
       "4    0.069444\n",
       "5    0.111111\n",
       "6    0.652778\n",
       "dtype: float64"
      ]
     },
     "execution_count": 19,
     "metadata": {},
     "output_type": "execute_result"
    }
   ],
   "source": [
    "qdf.groupby(['OFTEN_3_R']).size()/72"
   ]
  },
  {
   "cell_type": "code",
   "execution_count": 20,
   "id": "d58680c4",
   "metadata": {},
   "outputs": [
    {
     "data": {
      "text/plain": [
       "SI\n",
       "1_Yes        0.222222\n",
       "2_No         0.486111\n",
       "3_NotSure    0.291667\n",
       "dtype: float64"
      ]
     },
     "execution_count": 20,
     "metadata": {},
     "output_type": "execute_result"
    }
   ],
   "source": [
    "qdf.groupby(['SI']).size()/72"
   ]
  },
  {
   "cell_type": "code",
   "execution_count": 21,
   "id": "bd44267b",
   "metadata": {},
   "outputs": [
    {
     "data": {
      "text/plain": [
       "count    72.000000\n",
       "mean      1.083333\n",
       "std       0.496466\n",
       "min       1.000000\n",
       "25%       1.000000\n",
       "50%       1.000000\n",
       "75%       1.000000\n",
       "max       5.000000\n",
       "Name: OFTEN_1_C, dtype: float64"
      ]
     },
     "execution_count": 21,
     "metadata": {},
     "output_type": "execute_result"
    }
   ],
   "source": [
    "qdf['OFTEN_1_C'].describe()"
   ]
  },
  {
   "cell_type": "markdown",
   "id": "e6ec41c6",
   "metadata": {},
   "source": [
    "## Manipulation checks: Framing"
   ]
  },
  {
   "cell_type": "code",
   "execution_count": 22,
   "id": "5c953a02",
   "metadata": {},
   "outputs": [
    {
     "data": {
      "text/html": [
       "<div>\n",
       "<style scoped>\n",
       "    .dataframe tbody tr th:only-of-type {\n",
       "        vertical-align: middle;\n",
       "    }\n",
       "\n",
       "    .dataframe tbody tr th {\n",
       "        vertical-align: top;\n",
       "    }\n",
       "\n",
       "    .dataframe thead th {\n",
       "        text-align: right;\n",
       "    }\n",
       "</style>\n",
       "<table border=\"1\" class=\"dataframe\">\n",
       "  <thead>\n",
       "    <tr style=\"text-align: right;\">\n",
       "      <th></th>\n",
       "      <th>count</th>\n",
       "      <th>mean</th>\n",
       "      <th>std</th>\n",
       "      <th>min</th>\n",
       "      <th>25%</th>\n",
       "      <th>50%</th>\n",
       "      <th>75%</th>\n",
       "      <th>max</th>\n",
       "    </tr>\n",
       "    <tr>\n",
       "      <th>Framing</th>\n",
       "      <th></th>\n",
       "      <th></th>\n",
       "      <th></th>\n",
       "      <th></th>\n",
       "      <th></th>\n",
       "      <th></th>\n",
       "      <th></th>\n",
       "      <th></th>\n",
       "    </tr>\n",
       "  </thead>\n",
       "  <tbody>\n",
       "    <tr>\n",
       "      <th>I</th>\n",
       "      <td>36.0</td>\n",
       "      <td>3.611111</td>\n",
       "      <td>1.399546</td>\n",
       "      <td>2.0</td>\n",
       "      <td>2.75</td>\n",
       "      <td>3.0</td>\n",
       "      <td>4.0</td>\n",
       "      <td>7.0</td>\n",
       "    </tr>\n",
       "    <tr>\n",
       "      <th>We</th>\n",
       "      <td>36.0</td>\n",
       "      <td>4.694444</td>\n",
       "      <td>1.450506</td>\n",
       "      <td>1.0</td>\n",
       "      <td>3.75</td>\n",
       "      <td>5.0</td>\n",
       "      <td>6.0</td>\n",
       "      <td>7.0</td>\n",
       "    </tr>\n",
       "  </tbody>\n",
       "</table>\n",
       "</div>"
      ],
      "text/plain": [
       "         count      mean       std  min   25%  50%  75%  max\n",
       "Framing                                                     \n",
       "I         36.0  3.611111  1.399546  2.0  2.75  3.0  4.0  7.0\n",
       "We        36.0  4.694444  1.450506  1.0  3.75  5.0  6.0  7.0"
      ]
     },
     "execution_count": 22,
     "metadata": {},
     "output_type": "execute_result"
    }
   ],
   "source": [
    "qdf.groupby(\"Framing\")['ROBOT_ORIENTATION'].describe()"
   ]
  },
  {
   "cell_type": "markdown",
   "id": "b466d701",
   "metadata": {},
   "source": [
    "**Please rate the frequency of the following statements.**\n",
    "From 1 (Never) to 7 (Always)\n",
    "\n",
    "The robot reference the *team*\n",
    "\n",
    "The robot reference *itself*"
   ]
  },
  {
   "cell_type": "code",
   "execution_count": 23,
   "id": "4d841ca7",
   "metadata": {},
   "outputs": [
    {
     "data": {
      "text/html": [
       "<div>\n",
       "<style scoped>\n",
       "    .dataframe tbody tr th:only-of-type {\n",
       "        vertical-align: middle;\n",
       "    }\n",
       "\n",
       "    .dataframe tbody tr th {\n",
       "        vertical-align: top;\n",
       "    }\n",
       "\n",
       "    .dataframe thead th {\n",
       "        text-align: right;\n",
       "    }\n",
       "</style>\n",
       "<table border=\"1\" class=\"dataframe\">\n",
       "  <thead>\n",
       "    <tr style=\"text-align: right;\">\n",
       "      <th></th>\n",
       "      <th>count</th>\n",
       "      <th>mean</th>\n",
       "      <th>std</th>\n",
       "      <th>min</th>\n",
       "      <th>25%</th>\n",
       "      <th>50%</th>\n",
       "      <th>75%</th>\n",
       "      <th>max</th>\n",
       "    </tr>\n",
       "    <tr>\n",
       "      <th>Framing</th>\n",
       "      <th></th>\n",
       "      <th></th>\n",
       "      <th></th>\n",
       "      <th></th>\n",
       "      <th></th>\n",
       "      <th></th>\n",
       "      <th></th>\n",
       "      <th></th>\n",
       "    </tr>\n",
       "  </thead>\n",
       "  <tbody>\n",
       "    <tr>\n",
       "      <th>I</th>\n",
       "      <td>36.0</td>\n",
       "      <td>4.611111</td>\n",
       "      <td>1.535816</td>\n",
       "      <td>1.0</td>\n",
       "      <td>4.0</td>\n",
       "      <td>4.0</td>\n",
       "      <td>6.0</td>\n",
       "      <td>7.0</td>\n",
       "    </tr>\n",
       "    <tr>\n",
       "      <th>We</th>\n",
       "      <td>36.0</td>\n",
       "      <td>2.555556</td>\n",
       "      <td>1.520234</td>\n",
       "      <td>1.0</td>\n",
       "      <td>1.0</td>\n",
       "      <td>2.5</td>\n",
       "      <td>4.0</td>\n",
       "      <td>7.0</td>\n",
       "    </tr>\n",
       "  </tbody>\n",
       "</table>\n",
       "</div>"
      ],
      "text/plain": [
       "         count      mean       std  min  25%  50%  75%  max\n",
       "Framing                                                    \n",
       "I         36.0  4.611111  1.535816  1.0  4.0  4.0  6.0  7.0\n",
       "We        36.0  2.555556  1.520234  1.0  1.0  2.5  4.0  7.0"
      ]
     },
     "execution_count": 23,
     "metadata": {},
     "output_type": "execute_result"
    }
   ],
   "source": [
    "qdf.groupby(\"Framing\")['REF_FREQ_SELF'].describe()"
   ]
  },
  {
   "cell_type": "code",
   "execution_count": 24,
   "id": "e7216a33",
   "metadata": {},
   "outputs": [
    {
     "data": {
      "text/html": [
       "<div>\n",
       "<style scoped>\n",
       "    .dataframe tbody tr th:only-of-type {\n",
       "        vertical-align: middle;\n",
       "    }\n",
       "\n",
       "    .dataframe tbody tr th {\n",
       "        vertical-align: top;\n",
       "    }\n",
       "\n",
       "    .dataframe thead th {\n",
       "        text-align: right;\n",
       "    }\n",
       "</style>\n",
       "<table border=\"1\" class=\"dataframe\">\n",
       "  <thead>\n",
       "    <tr style=\"text-align: right;\">\n",
       "      <th></th>\n",
       "      <th>count</th>\n",
       "      <th>mean</th>\n",
       "      <th>std</th>\n",
       "      <th>min</th>\n",
       "      <th>25%</th>\n",
       "      <th>50%</th>\n",
       "      <th>75%</th>\n",
       "      <th>max</th>\n",
       "    </tr>\n",
       "    <tr>\n",
       "      <th>Framing</th>\n",
       "      <th></th>\n",
       "      <th></th>\n",
       "      <th></th>\n",
       "      <th></th>\n",
       "      <th></th>\n",
       "      <th></th>\n",
       "      <th></th>\n",
       "      <th></th>\n",
       "    </tr>\n",
       "  </thead>\n",
       "  <tbody>\n",
       "    <tr>\n",
       "      <th>I</th>\n",
       "      <td>36.0</td>\n",
       "      <td>2.777778</td>\n",
       "      <td>1.742102</td>\n",
       "      <td>1.0</td>\n",
       "      <td>1.00</td>\n",
       "      <td>2.0</td>\n",
       "      <td>4.0</td>\n",
       "      <td>7.0</td>\n",
       "    </tr>\n",
       "    <tr>\n",
       "      <th>We</th>\n",
       "      <td>36.0</td>\n",
       "      <td>4.750000</td>\n",
       "      <td>1.662614</td>\n",
       "      <td>1.0</td>\n",
       "      <td>3.75</td>\n",
       "      <td>5.0</td>\n",
       "      <td>6.0</td>\n",
       "      <td>7.0</td>\n",
       "    </tr>\n",
       "  </tbody>\n",
       "</table>\n",
       "</div>"
      ],
      "text/plain": [
       "         count      mean       std  min   25%  50%  75%  max\n",
       "Framing                                                     \n",
       "I         36.0  2.777778  1.742102  1.0  1.00  2.0  4.0  7.0\n",
       "We        36.0  4.750000  1.662614  1.0  3.75  5.0  6.0  7.0"
      ]
     },
     "execution_count": 24,
     "metadata": {},
     "output_type": "execute_result"
    }
   ],
   "source": [
    "qdf.groupby(\"Framing\")['REF_FREQ_TEAM'].describe()"
   ]
  },
  {
   "cell_type": "markdown",
   "id": "5548d04a",
   "metadata": {},
   "source": [
    "**Please rate the statement on a scale from strongly disagree to strongly agree depending on how much you agree with them.**\n",
    "\n",
    "The robot cares about the team"
   ]
  },
  {
   "cell_type": "code",
   "execution_count": 25,
   "id": "add429ec",
   "metadata": {},
   "outputs": [
    {
     "data": {
      "text/html": [
       "<div>\n",
       "<style scoped>\n",
       "    .dataframe tbody tr th:only-of-type {\n",
       "        vertical-align: middle;\n",
       "    }\n",
       "\n",
       "    .dataframe tbody tr th {\n",
       "        vertical-align: top;\n",
       "    }\n",
       "\n",
       "    .dataframe thead th {\n",
       "        text-align: right;\n",
       "    }\n",
       "</style>\n",
       "<table border=\"1\" class=\"dataframe\">\n",
       "  <thead>\n",
       "    <tr style=\"text-align: right;\">\n",
       "      <th></th>\n",
       "      <th>count</th>\n",
       "      <th>mean</th>\n",
       "      <th>std</th>\n",
       "      <th>min</th>\n",
       "      <th>25%</th>\n",
       "      <th>50%</th>\n",
       "      <th>75%</th>\n",
       "      <th>max</th>\n",
       "    </tr>\n",
       "    <tr>\n",
       "      <th>Framing</th>\n",
       "      <th></th>\n",
       "      <th></th>\n",
       "      <th></th>\n",
       "      <th></th>\n",
       "      <th></th>\n",
       "      <th></th>\n",
       "      <th></th>\n",
       "      <th></th>\n",
       "    </tr>\n",
       "  </thead>\n",
       "  <tbody>\n",
       "    <tr>\n",
       "      <th>I</th>\n",
       "      <td>36.0</td>\n",
       "      <td>5.277778</td>\n",
       "      <td>1.649435</td>\n",
       "      <td>1.0</td>\n",
       "      <td>5.0</td>\n",
       "      <td>6.0</td>\n",
       "      <td>6.0</td>\n",
       "      <td>7.0</td>\n",
       "    </tr>\n",
       "    <tr>\n",
       "      <th>We</th>\n",
       "      <td>36.0</td>\n",
       "      <td>5.444444</td>\n",
       "      <td>1.423164</td>\n",
       "      <td>1.0</td>\n",
       "      <td>5.0</td>\n",
       "      <td>6.0</td>\n",
       "      <td>6.0</td>\n",
       "      <td>7.0</td>\n",
       "    </tr>\n",
       "  </tbody>\n",
       "</table>\n",
       "</div>"
      ],
      "text/plain": [
       "         count      mean       std  min  25%  50%  75%  max\n",
       "Framing                                                    \n",
       "I         36.0  5.277778  1.649435  1.0  5.0  6.0  6.0  7.0\n",
       "We        36.0  5.444444  1.423164  1.0  5.0  6.0  6.0  7.0"
      ]
     },
     "execution_count": 25,
     "metadata": {},
     "output_type": "execute_result"
    }
   ],
   "source": [
    "qdf.groupby(\"Framing\")['ROBOT_CARES_TEAM_1'].describe()"
   ]
  },
  {
   "cell_type": "markdown",
   "id": "923d1739",
   "metadata": {},
   "source": [
    "## Manipulation checks: Timing"
   ]
  },
  {
   "cell_type": "markdown",
   "id": "1695df6e",
   "metadata": {},
   "source": [
    "**In the last two games, the robot reminded you to give feedback. When did the robot remind you to give feedback?**\n",
    "\n",
    "1: I don't remember the robot reminding me to give feedback\n",
    "\n",
    "2: Before the robot said that it was destroying enemies on the left side of the game screen\n",
    "\n",
    "3: After the robot said that it was destroying enemies on the left side of the game screen\n",
    "\n",
    "4: I don't remember the ordering"
   ]
  },
  {
   "cell_type": "code",
   "execution_count": 26,
   "id": "f26810fe",
   "metadata": {},
   "outputs": [
    {
     "data": {
      "text/html": [
       "<div>\n",
       "<style scoped>\n",
       "    .dataframe tbody tr th:only-of-type {\n",
       "        vertical-align: middle;\n",
       "    }\n",
       "\n",
       "    .dataframe tbody tr th {\n",
       "        vertical-align: top;\n",
       "    }\n",
       "\n",
       "    .dataframe thead th {\n",
       "        text-align: right;\n",
       "    }\n",
       "</style>\n",
       "<table border=\"1\" class=\"dataframe\">\n",
       "  <thead>\n",
       "    <tr style=\"text-align: right;\">\n",
       "      <th>RE_MANIP_TIMING</th>\n",
       "      <th>2_Before</th>\n",
       "      <th>3_After</th>\n",
       "      <th>4_DontRememberOrdering</th>\n",
       "    </tr>\n",
       "    <tr>\n",
       "      <th>Timing</th>\n",
       "      <th></th>\n",
       "      <th></th>\n",
       "      <th></th>\n",
       "    </tr>\n",
       "  </thead>\n",
       "  <tbody>\n",
       "    <tr>\n",
       "      <th>After</th>\n",
       "      <td>0.111111</td>\n",
       "      <td>0.75</td>\n",
       "      <td>0.138889</td>\n",
       "    </tr>\n",
       "    <tr>\n",
       "      <th>Before</th>\n",
       "      <td>0.694444</td>\n",
       "      <td>0.25</td>\n",
       "      <td>0.055556</td>\n",
       "    </tr>\n",
       "  </tbody>\n",
       "</table>\n",
       "</div>"
      ],
      "text/plain": [
       "RE_MANIP_TIMING  2_Before  3_After  4_DontRememberOrdering\n",
       "Timing                                                    \n",
       "After            0.111111     0.75                0.138889\n",
       "Before           0.694444     0.25                0.055556"
      ]
     },
     "execution_count": 26,
     "metadata": {},
     "output_type": "execute_result"
    }
   ],
   "source": [
    "pd.crosstab(qdf['Timing'],qdf['RE_MANIP_TIMING'])/36"
   ]
  },
  {
   "cell_type": "markdown",
   "id": "efdcbffd",
   "metadata": {},
   "source": [
    "**Please rate the statements on a scale from strongly disagree to strongly agree depending on how much you agree with them.**\n",
    "\n",
    "It was *distracting* to give feedback with the up/down arrow keys\n",
    "\n",
    "It was *difficult* to give feedback with the up/down arrow keys\n",
    "\n",
    "I think I was able to give the robot *helpful* feedback"
   ]
  },
  {
   "cell_type": "code",
   "execution_count": 27,
   "id": "01425867",
   "metadata": {},
   "outputs": [
    {
     "data": {
      "text/html": [
       "<div>\n",
       "<style scoped>\n",
       "    .dataframe tbody tr th:only-of-type {\n",
       "        vertical-align: middle;\n",
       "    }\n",
       "\n",
       "    .dataframe tbody tr th {\n",
       "        vertical-align: top;\n",
       "    }\n",
       "\n",
       "    .dataframe thead th {\n",
       "        text-align: right;\n",
       "    }\n",
       "</style>\n",
       "<table border=\"1\" class=\"dataframe\">\n",
       "  <thead>\n",
       "    <tr style=\"text-align: right;\">\n",
       "      <th></th>\n",
       "      <th>FEEDBACK_AGREE_DISTRACTING</th>\n",
       "      <th>FEEDBACK_AGREE_DIFFICULT</th>\n",
       "      <th>FEEDBACK_AGREE_HELPFUL</th>\n",
       "    </tr>\n",
       "    <tr>\n",
       "      <th>Timing</th>\n",
       "      <th></th>\n",
       "      <th></th>\n",
       "      <th></th>\n",
       "    </tr>\n",
       "  </thead>\n",
       "  <tbody>\n",
       "    <tr>\n",
       "      <th>After</th>\n",
       "      <td>3.722222</td>\n",
       "      <td>2.388889</td>\n",
       "      <td>5.361111</td>\n",
       "    </tr>\n",
       "    <tr>\n",
       "      <th>Before</th>\n",
       "      <td>3.222222</td>\n",
       "      <td>2.138889</td>\n",
       "      <td>5.250000</td>\n",
       "    </tr>\n",
       "  </tbody>\n",
       "</table>\n",
       "</div>"
      ],
      "text/plain": [
       "        FEEDBACK_AGREE_DISTRACTING  FEEDBACK_AGREE_DIFFICULT  \\\n",
       "Timing                                                         \n",
       "After                     3.722222                  2.388889   \n",
       "Before                    3.222222                  2.138889   \n",
       "\n",
       "        FEEDBACK_AGREE_HELPFUL  \n",
       "Timing                          \n",
       "After                 5.361111  \n",
       "Before                5.250000  "
      ]
     },
     "execution_count": 27,
     "metadata": {},
     "output_type": "execute_result"
    }
   ],
   "source": [
    "qdf.groupby(\"Timing\")[['FEEDBACK_AGREE_DISTRACTING','FEEDBACK_AGREE_DIFFICULT','FEEDBACK_AGREE_HELPFUL']].mean()\n"
   ]
  },
  {
   "cell_type": "markdown",
   "id": "22e86129",
   "metadata": {},
   "source": [
    "**Please rate the statements on a scale from strongly disagree to strongly agree depending on how much you agree with them.**\n",
    "\n",
    "I gave feedback to *signal the robot should change* its behavior\n",
    "\n",
    "I gave feedback *in response to the robot changing* its behavior"
   ]
  },
  {
   "cell_type": "code",
   "execution_count": 28,
   "id": "755718ff",
   "metadata": {},
   "outputs": [
    {
     "data": {
      "text/html": [
       "<div>\n",
       "<style scoped>\n",
       "    .dataframe tbody tr th:only-of-type {\n",
       "        vertical-align: middle;\n",
       "    }\n",
       "\n",
       "    .dataframe tbody tr th {\n",
       "        vertical-align: top;\n",
       "    }\n",
       "\n",
       "    .dataframe thead th {\n",
       "        text-align: right;\n",
       "    }\n",
       "</style>\n",
       "<table border=\"1\" class=\"dataframe\">\n",
       "  <thead>\n",
       "    <tr style=\"text-align: right;\">\n",
       "      <th></th>\n",
       "      <th>FEEDBACK_AGREE_SIGNAL</th>\n",
       "      <th>FEEDBACK_AGREE_RESPONSE</th>\n",
       "    </tr>\n",
       "    <tr>\n",
       "      <th>Timing</th>\n",
       "      <th></th>\n",
       "      <th></th>\n",
       "    </tr>\n",
       "  </thead>\n",
       "  <tbody>\n",
       "    <tr>\n",
       "      <th>After</th>\n",
       "      <td>4.527778</td>\n",
       "      <td>5.444444</td>\n",
       "    </tr>\n",
       "    <tr>\n",
       "      <th>Before</th>\n",
       "      <td>4.805556</td>\n",
       "      <td>4.972222</td>\n",
       "    </tr>\n",
       "  </tbody>\n",
       "</table>\n",
       "</div>"
      ],
      "text/plain": [
       "        FEEDBACK_AGREE_SIGNAL  FEEDBACK_AGREE_RESPONSE\n",
       "Timing                                                \n",
       "After                4.527778                 5.444444\n",
       "Before               4.805556                 4.972222"
      ]
     },
     "execution_count": 28,
     "metadata": {},
     "output_type": "execute_result"
    }
   ],
   "source": [
    "qdf.groupby(\"Timing\")[['FEEDBACK_AGREE_SIGNAL','FEEDBACK_AGREE_RESPONSE']].mean()\n"
   ]
  },
  {
   "cell_type": "code",
   "execution_count": 29,
   "id": "ea217912",
   "metadata": {},
   "outputs": [],
   "source": [
    "#qdf.to_csv(\"qualtrics_hri2023.csv\")"
   ]
  },
  {
   "cell_type": "markdown",
   "id": "35e4cf80",
   "metadata": {},
   "source": [
    "# When"
   ]
  },
  {
   "cell_type": "code",
   "execution_count": 30,
   "id": "1ad84b8d",
   "metadata": {},
   "outputs": [],
   "source": [
    "qdf['FEEDBACK_SELECTWHEN_1']= '1' in qdf['FEEDBACK_SELECTWHEN']"
   ]
  },
  {
   "cell_type": "code",
   "execution_count": 31,
   "id": "0c3d1747",
   "metadata": {},
   "outputs": [
    {
     "data": {
      "text/plain": [
       "0           4,6,7\n",
       "1         1,4,5,6\n",
       "2           4,5,6\n",
       "3       2,3,4,6,7\n",
       "4     3,4,5,6,7,8\n",
       "         ...     \n",
       "67      3,4,5,6,7\n",
       "68      3,4,5,6,7\n",
       "69        1,4,5,6\n",
       "70          4,6,7\n",
       "71      3,4,5,6,7\n",
       "Name: FEEDBACK_SELECTWHEN, Length: 72, dtype: object"
      ]
     },
     "execution_count": 31,
     "metadata": {},
     "output_type": "execute_result"
    }
   ],
   "source": [
    "qdf['FEEDBACK_SELECTWHEN']"
   ]
  },
  {
   "cell_type": "code",
   "execution_count": 32,
   "id": "3ed00210",
   "metadata": {},
   "outputs": [],
   "source": [
    "qdf['FEEDBACK_SELECTWHEN_1'] = qdf['FEEDBACK_SELECTWHEN'].str.contains('1')\n",
    "qdf['FEEDBACK_SELECTWHEN_2'] = qdf['FEEDBACK_SELECTWHEN'].str.contains('2')\n",
    "qdf['FEEDBACK_SELECTWHEN_3'] = qdf['FEEDBACK_SELECTWHEN'].str.contains('3')\n",
    "qdf['FEEDBACK_SELECTWHEN_4'] = qdf['FEEDBACK_SELECTWHEN'].str.contains('4')\n",
    "qdf['FEEDBACK_SELECTWHEN_5'] = qdf['FEEDBACK_SELECTWHEN'].str.contains('5')\n",
    "qdf['FEEDBACK_SELECTWHEN_6'] = qdf['FEEDBACK_SELECTWHEN'].str.contains('6')\n",
    "qdf['FEEDBACK_SELECTWHEN_7'] = qdf['FEEDBACK_SELECTWHEN'].str.contains('7')\n",
    "qdf['FEEDBACK_SELECTWHEN_8'] = qdf['FEEDBACK_SELECTWHEN'].str.contains('8')"
   ]
  },
  {
   "cell_type": "code",
   "execution_count": 33,
   "id": "67f05106",
   "metadata": {},
   "outputs": [],
   "source": [
    "qdf.to_csv(\"qualtrics_splitwhen_hri2023.csv\")"
   ]
  },
  {
   "cell_type": "markdown",
   "id": "bc62b57f",
   "metadata": {},
   "source": []
  },
  {
   "cell_type": "code",
   "execution_count": null,
   "id": "0fb2721d",
   "metadata": {},
   "outputs": [],
   "source": []
  }
 ],
 "metadata": {
  "kernelspec": {
   "display_name": "Python 3 (ipykernel)",
   "language": "python",
   "name": "python3"
  },
  "language_info": {
   "codemirror_mode": {
    "name": "ipython",
    "version": 3
   },
   "file_extension": ".py",
   "mimetype": "text/x-python",
   "name": "python",
   "nbconvert_exporter": "python",
   "pygments_lexer": "ipython3",
   "version": "3.8.5"
  }
 },
 "nbformat": 4,
 "nbformat_minor": 5
}
