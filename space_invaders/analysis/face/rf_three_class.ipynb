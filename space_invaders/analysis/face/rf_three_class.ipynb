{
 "cells": [
  {
   "cell_type": "code",
   "execution_count": 171,
   "id": "3b54f379-eb0a-47c8-9577-74364c7d653a",
   "metadata": {},
   "outputs": [],
   "source": [
    "import pandas as pd\n",
    "import numpy as np\n",
    "import os\n",
    "from collections import Counter\n",
    "import random\n",
    "import matplotlib.pyplot as plt\n",
    "from matplotlib.legend_handler import HandlerLine2D\n"
   ]
  },
  {
   "cell_type": "code",
   "execution_count": 172,
   "id": "bc8d3fcc-b968-4b5b-ba4d-72e7f86dab96",
   "metadata": {},
   "outputs": [],
   "source": [
    "from sklearn import svm, preprocessing, metrics\n",
    "from sklearn.ensemble import RandomForestClassifier\n",
    "from sklearn.model_selection import train_test_split\n",
    "from imblearn.over_sampling import RandomOverSampler, SMOTE, ADASYN\n",
    "from sklearn.metrics import roc_curve, auc\n",
    "from sklearn.dummy import DummyClassifier"
   ]
  },
  {
   "cell_type": "code",
   "execution_count": 173,
   "id": "b695abc6-3f5d-4e67-bb47-b7822ffe31a5",
   "metadata": {},
   "outputs": [],
   "source": [
    "data_path = 'face_data/all_pilots/three_classes/fd_oneside_1500.csv'\n",
    "\n",
    "data = pd.read_csv(data_path)\n",
    "x = data.drop(columns=['type']) # Features\n",
    "y = data['type'] # Labels"
   ]
  },
  {
   "cell_type": "code",
   "execution_count": 174,
   "id": "16caf0b0-d5ca-45be-ba6f-201393a3ce07",
   "metadata": {},
   "outputs": [],
   "source": [
    "def get_AU_cols(nums, s):\n",
    "    # return AU column name\n",
    "    r = []\n",
    "    for x in nums:\n",
    "        start = f'AU{str(x).zfill(2)}_r'\n",
    "        for stat in s:\n",
    "            r += [f'{start}_{stat}']\n",
    "    return r\n",
    "\n",
    "selected_AUs = [1, 4, 7, 10, 15]\n",
    "x_new = x[get_AU_cols(selected_AUs, ['max', 'mean'])]\n",
    "# x_new = x"
   ]
  },
  {
   "cell_type": "code",
   "execution_count": 184,
   "id": "80febbac-ed61-4d0c-92ec-60932729aa7d",
   "metadata": {},
   "outputs": [
    {
     "data": {
      "text/plain": [
       "0        signal\n",
       "1        signal\n",
       "2        signal\n",
       "3        signal\n",
       "4        signal\n",
       "         ...   \n",
       "2150    neutral\n",
       "2151    neutral\n",
       "2152    neutral\n",
       "2153    neutral\n",
       "2154    neutral\n",
       "Name: type, Length: 2155, dtype: object"
      ]
     },
     "execution_count": 184,
     "metadata": {},
     "output_type": "execute_result"
    }
   ],
   "source": [
    "# for testing signal vs neutral\n",
    "y.loc[(y == 'up') | (y == 'down')] = 'signal'\n",
    "\n",
    "y\n"
   ]
  },
  {
   "cell_type": "code",
   "execution_count": 203,
   "id": "9d9572e6-68df-4211-b25a-3173b3a61788",
   "metadata": {},
   "outputs": [],
   "source": [
    "# X_new = X[list(feature_imp.index)[0:15]]\n",
    "# x_new = x\n",
    "seed = 109\n",
    "\n",
    "# Split dataset into training set and test set\n",
    "x_train, x_test, y_train, y_test = train_test_split(x_new, y, test_size=0.3)\n",
    "\n",
    "# normalize inputs\n",
    "normalizer = preprocessing.Normalizer()\n",
    "x_train_norm = normalizer.fit_transform(x_train)\n",
    "x_test_norm = normalizer.transform(x_test)\n",
    "\n",
    "# oversample inputs\n",
    "over = {'random': RandomOverSampler(),\n",
    "        'smote': SMOTE(),\n",
    "        'adasyn': ADASYN()}\n",
    "\n",
    "# x_train_norm, y_train = over['smote'].fit_resample(x_train_norm, y_train)\n",
    "\n",
    "\n",
    "# X_train_res, y_train_res = over['smote'].fit_resample(X_train_norm, y_train)"
   ]
  },
  {
   "cell_type": "code",
   "execution_count": null,
   "id": "fff07a27-711d-4777-bf9a-ec0b3b861226",
   "metadata": {},
   "outputs": [],
   "source": []
  },
  {
   "cell_type": "code",
   "execution_count": 204,
   "id": "b74d50f8-30c3-482a-9435-13b932632a2e",
   "metadata": {},
   "outputs": [
    {
     "data": {
      "text/plain": [
       "RandomForestClassifier(class_weight='balanced', max_depth=6, max_features=10,\n",
       "                       n_estimators=200)"
      ]
     },
     "execution_count": 204,
     "metadata": {},
     "output_type": "execute_result"
    }
   ],
   "source": [
    "clf = RandomForestClassifier(n_estimators=200, max_depth=6, max_features=x_new.shape[1], class_weight='balanced')\n",
    "clf.fit(x_train_norm, y_train)"
   ]
  },
  {
   "cell_type": "code",
   "execution_count": 205,
   "id": "46fc4403-334e-425e-8b29-5d6a46a08414",
   "metadata": {},
   "outputs": [
    {
     "name": "stdout",
     "output_type": "stream",
     "text": [
      "F1 score: [0.82056256 0.29657795]\n"
     ]
    }
   ],
   "source": [
    "y_pred = clf.predict(x_test_norm)\n",
    "\n",
    "print(\"F1 score:\", metrics.f1_score(y_test, y_pred, average=None))"
   ]
  },
  {
   "cell_type": "code",
   "execution_count": 206,
   "id": "860dd438-a383-4d6e-8da4-3104ef9b8595",
   "metadata": {},
   "outputs": [
    {
     "name": "stdout",
     "output_type": "stream",
     "text": [
      "F1 score: [0.9014553  0.61211129]\n"
     ]
    }
   ],
   "source": [
    "y_pred_train = clf.predict(x_train_norm)\n",
    "\n",
    "print(\"F1 score:\", metrics.f1_score(y_train, y_pred_train, average=None))"
   ]
  },
  {
   "cell_type": "code",
   "execution_count": 207,
   "id": "32e7e209-93e2-47c9-bf9c-40fdf07a8fbe",
   "metadata": {},
   "outputs": [],
   "source": [
    "# feature_imp = pd.Series(clf.feature_importances_,index=X.columns).sort_values(ascending=False)\n",
    "# list(feature_imp.index)"
   ]
  },
  {
   "cell_type": "code",
   "execution_count": 190,
   "id": "3fba6201-822a-4bfd-980d-787a425a235a",
   "metadata": {},
   "outputs": [
    {
     "name": "stdout",
     "output_type": "stream",
     "text": [
      "Train:  Counter({'neutral': 1294, 'signal': 214})\n",
      "Test:  Counter({'neutral': 543, 'signal': 104})\n"
     ]
    }
   ],
   "source": [
    "print('Train: ', Counter(y_train))\n",
    "print('Test: ', Counter(y_test))"
   ]
  },
  {
   "cell_type": "code",
   "execution_count": 192,
   "id": "94ca35f6-b1cc-40c4-84cc-292d420a15c0",
   "metadata": {},
   "outputs": [
    {
     "name": "stdout",
     "output_type": "stream",
     "text": [
      "F1 score: [0.65628476 0.21772152]\n"
     ]
    }
   ],
   "source": [
    "# Compare to Dummy\n",
    "dummy_clf = DummyClassifier(strategy=\"uniform\")\n",
    "dummy_clf.fit(x_train_norm, y_train)\n",
    "\n",
    "dummy_pred = dummy_clf.predict(x_test_norm)\n",
    "print(\"F1 score:\", metrics.f1_score(y_test, dummy_pred, average=None))"
   ]
  },
  {
   "cell_type": "code",
   "execution_count": 213,
   "id": "ab844e4c-833b-4b7c-ad63-ac574538daf0",
   "metadata": {},
   "outputs": [
    {
     "data": {
      "image/png": "[encoded data removed]",
      "text/plain": [
       "<Figure size 432x288 with 1 Axes>"
      ]
     },
     "metadata": {
      "needs_background": "light"
     },
     "output_type": "display_data"
    }
   ],
   "source": [
    "# parameter searching\n",
    "n_estimators = [1, 2, 4, 8, 16, 32, 64, 100, 200]\n",
    "train_results = []\n",
    "test_results = []\n",
    "for estimator in n_estimators:\n",
    "    rf = RandomForestClassifier(n_estimators=estimator, max_features = x_new.shape[1], class_weight='balanced')\n",
    "    rf.fit(x_train_norm, y_train)\n",
    "    train_pred = rf.predict(x_train_norm)\n",
    "#     false_positive_rate, true_positive_rate, thresholds = roc_curve(y_train, train_pred, pos_label='down')\n",
    "#     roc_auc = auc(false_positive_rate, true_positive_rate)\n",
    "#     train_results.append(roc_auc)\n",
    "    train_results.append(metrics.f1_score(y_train, train_pred, pos_label='signal'))\n",
    "    y_pred = rf.predict(x_test_norm)\n",
    "#     false_positive_rate, true_positive_rate, thresholds = roc_curve(y_test, y_pred, pos_label='down')\n",
    "#     roc_auc = auc(false_positive_rate, true_positive_rate)\n",
    "    test_results.append(metrics.f1_score(y_test, y_pred, pos_label='signal'))\n",
    "#     test_results.append(roc_auc)\n",
    "from matplotlib.legend_handler import HandlerLine2D\n",
    "line1, = plt.plot(n_estimators, train_results, 'b', label=\"Train F1\")\n",
    "line2, = plt.plot(n_estimators, test_results, 'r', label=\"Test F1\")\n",
    "plt.legend(handler_map={line1: HandlerLine2D(numpoints=2)})\n",
    "plt.ylabel('F1 score')\n",
    "plt.xlabel('n_estimators')\n",
    "plt.show()"
   ]
  },
  {
   "cell_type": "code",
   "execution_count": null,
   "id": "0a8f7190-8cd2-436b-a133-b0ab7ebbef2b",
   "metadata": {},
   "outputs": [],
   "source": [
    "# parameter searching\n",
    "max_depths = np.linspace(1, 32, 32, endpoint=True)\n",
    "train_results = []\n",
    "test_results = []\n",
    "# for estimator in n_estimators:\n",
    "for max_depth in max_depths:\n",
    "    rf = RandomForestClassifier(max_depth=max_depth, max_features=x_new.shape[1], class_weight='balanced', random_state=109)\n",
    "    rf.fit(x_train_norm, y_train)\n",
    "    train_pred = rf.predict(x_train_norm)\n",
    "#     false_positive_rate, true_positive_rate, thresholds = roc_curve(y_train, train_pred, pos_label='down')\n",
    "#     roc_auc = auc(false_positive_rate, true_positive_rate)\n",
    "#     train_results.append(roc_auc)\n",
    "    train_results.append(metrics.f1_score(y_train, train_pred, pos_label='signal'))\n",
    "    y_pred = rf.predict(x_test_norm)\n",
    "#     false_positive_rate, true_positive_rate, thresholds = roc_curve(y_test, y_pred, pos_label='down')\n",
    "#     roc_auc = auc(false_positive_rate, true_positive_rate)\n",
    "    test_results.append(metrics.f1_score(y_test, y_pred, pos_label='signal'))\n",
    "#     test_results.append(roc_auc)\n",
    "line1, = plt.plot(max_depths, train_results, 'b', label=\"Train F1\")\n",
    "line2, = plt.plot(max_depths, test_results, 'r', label=\"Test F1\")\n",
    "plt.legend(handler_map={line1: HandlerLine2D(numpoints=2)})\n",
    "plt.ylabel('F1 score')\n",
    "plt.xlabel('max_depth')\n",
    "plt.show()"
   ]
  },
  {
   "cell_type": "code",
   "execution_count": null,
   "id": "19ad4f7a-5709-43ad-9210-cec0e1f76309",
   "metadata": {},
   "outputs": [],
   "source": []
  },
  {
   "cell_type": "code",
   "execution_count": 14,
   "id": "91a6e9ed-6c4b-4831-8613-ffd239efc279",
   "metadata": {},
   "outputs": [],
   "source": [
    "r = pd.DataFrame(columns=['test', 'pred'])\n",
    "r['test'], r['pred'] = y_test, y_pred\n"
   ]
  },
  {
   "cell_type": "code",
   "execution_count": null,
   "id": "9b212d26-fa56-46d9-8088-bc5dfdb40aa2",
   "metadata": {},
   "outputs": [],
   "source": []
  },
  {
   "cell_type": "code",
   "execution_count": null,
   "id": "80bc9339-1da4-4af4-88db-f60ab2c8b990",
   "metadata": {},
   "outputs": [],
   "source": []
  },
  {
   "cell_type": "code",
   "execution_count": null,
   "id": "146fb357-61af-493e-b3e5-49a00b53fc1c",
   "metadata": {},
   "outputs": [],
   "source": []
  },
  {
   "cell_type": "code",
   "execution_count": null,
   "id": "72696f57-afce-45ef-b694-1b33c277cfe1",
   "metadata": {},
   "outputs": [],
   "source": []
  }
 ],
 "metadata": {
  "kernelspec": {
   "display_name": "Python 3 (ipykernel)",
   "language": "python",
   "name": "python3"
  },
  "language_info": {
   "codemirror_mode": {
    "name": "ipython",
    "version": 3
   },
   "file_extension": ".py",
   "mimetype": "text/x-python",
   "name": "python",
   "nbconvert_exporter": "python",
   "pygments_lexer": "ipython3",
   "version": "3.7.10"
  }
 },
 "nbformat": 4,
 "nbformat_minor": 5
}
