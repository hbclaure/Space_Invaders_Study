{
 "cells": [
  {
   "cell_type": "code",
   "execution_count": 1,
   "id": "8dd16aef-ab38-4fe7-b7cd-3197fa191c63",
   "metadata": {},
   "outputs": [],
   "source": [
    "from sklearn import svm, preprocessing, metrics\n",
    "from sklearn.model_selection import train_test_split"
   ]
  },
  {
   "cell_type": "code",
   "execution_count": 2,
   "id": "0a01037d-ede5-4316-858a-e9a832cf7962",
   "metadata": {},
   "outputs": [],
   "source": [
    "import pandas as pd\n",
    "import numpy as np\n",
    "import os"
   ]
  },
  {
   "cell_type": "code",
   "execution_count": 3,
   "id": "32251cd1-c80d-463d-8577-865d30adb703",
   "metadata": {},
   "outputs": [],
   "source": [
    "#a = all_data[0]\n",
    "# a.head()"
   ]
  },
  {
   "cell_type": "code",
   "execution_count": 4,
   "id": "71718679-95ca-4c37-b03c-9594abb0d27a",
   "metadata": {},
   "outputs": [],
   "source": [
    "# a.columns"
   ]
  },
  {
   "cell_type": "code",
   "execution_count": 5,
   "id": "47c86d55-3d6e-45c9-bb20-3aa4e411835d",
   "metadata": {},
   "outputs": [],
   "source": [
    "def AU(n):\n",
    "    # return AU column name\n",
    "    return f'AU{str(n).zfill(2)}_r'"
   ]
  },
  {
   "cell_type": "code",
   "execution_count": null,
   "id": "b7685746-478d-42a2-b9b4-28cd42773b11",
   "metadata": {},
   "outputs": [],
   "source": []
  },
  {
   "cell_type": "code",
   "execution_count": 6,
   "id": "ba18e6c0-ca58-48b3-94b9-fd6bcbd3c3c0",
   "metadata": {},
   "outputs": [],
   "source": [
    "# define useful functions\n",
    "\n",
    "count = 0\n",
    "RANGE = 1500\n",
    "def closest_frame(df, f):\n",
    "    for x in range(50):\n",
    "        while len(face_data.loc[face_data['frame'] == f, 'milis'].values) == 0:\n",
    "            f -= 1\n",
    "    return f\n",
    "\n",
    "def df_near(df, frame, ms_range=RANGE):\n",
    "#     global count\n",
    "#     count += len(frames_list)\n",
    "    if frame is None:\n",
    "        return None\n",
    "    ms = df.loc[df['frame'] == closest_frame(df,frame), 'milis'].values[0]\n",
    "#     locs = df.loc[(df['milis'] >= ms - ms_range) & (df['milis'] <= ms + ms_range)]\n",
    "    locs = df.loc[(df['milis'] >= ms - ms_range) & (df['milis'] <= ms + ms_range)]\n",
    "    return locs\n",
    "\n",
    "\n",
    "def max_df_near(df, frames_list, ms_range=RANGE):\n",
    "    d = df_near(df, frames_list)\n",
    "    if d is None:\n",
    "        return None\n",
    "    return pd.DataFrame(d.max()).transpose()\n",
    "\n",
    "def min_df_near(df, frames_list, ms_range=RANGE):\n",
    "    d = df_near(df, frames_list)\n",
    "    if d is None:\n",
    "        return None\n",
    "    return pd.DataFrame(d.min()).transpose()\n",
    "\n",
    "def max_df(d):\n",
    "    if d is None:\n",
    "        return None\n",
    "    return pd.DataFrame(d.max()).transpose()\n",
    "\n",
    "def min_df(d):\n",
    "    if d is None:\n",
    "        return None\n",
    "    return pd.DataFrame(d.min()).transpose()\n",
    "\n",
    "def mean_df(d):\n",
    "    if d is None:\n",
    "        return None\n",
    "    return pd.DataFrame(d.mean()).transpose()\n",
    "\n",
    "def sd_df(d):\n",
    "    if d is None:\n",
    "        return None\n",
    "    return pd.DataFrame(d.std()).transpose()"
   ]
  },
  {
   "cell_type": "code",
   "execution_count": 7,
   "id": "61196338-ed1f-434b-aadc-3f17fbf61ddf",
   "metadata": {},
   "outputs": [
    {
     "name": "stdout",
     "output_type": "stream",
     "text": [
      "P5ee6d2494fd04045b988a12d_voff_m1_g1_t2021_7_10_0_47\n",
      "P5ee6d2494fd04045b988a12d_voff_m2_g2_t2021_7_10_0_50\n",
      "P5ef33c05f4c5240413ef9ac2_voff_m1_g1_t2021_7_13_20_38\n",
      "P5ef33c05f4c5240413ef9ac2_voff_m2_g2_t2021_7_13_20_34\n",
      "P6081c511ded5945d9b70801e_voff_m1_g1_t2021_7_13_21_6\n",
      "P6081c511ded5945d9b70801e_voff_m2_g2_t2021_7_13_21_11\n",
      "P60d520539b147c4acaf44b77_voff_m1_g1_t2021_7_10_1_4\n",
      "P60d520539b147c4acaf44b77_voff_m2_g2_t2021_7_10_1_1\n",
      "P60e5e62659dc1912bc43ed35_voff_m1_g1_t2021_7_9_23_29\n",
      "P60e5e62659dc1912bc43ed35_voff_m2_g2_t2021_7_9_23_24\n",
      "P60e9e9618953d7a3430dd8f6_voff_m1_g1_t2021_7_13_18_51\n",
      "P60e9e9618953d7a3430dd8f6_voff_m2_g2_t2021_7_13_18_57\n",
      "P60edb7015a9231789057bdea_voff_m1_g1_t2021_7_13_21_7\n",
      "P60edb7015a9231789057bdea_voff_m2_g2_t2021_7_13_21_11\n"
     ]
    }
   ],
   "source": [
    "# gather data\n",
    "\n",
    "# choose which action units to look at\n",
    "AUs_to_look_at = [9, 14, 15, 17, 20, 23, 45]\n",
    "\n",
    "def get_pid(filename):\n",
    "    \"\"\" get pid from dirname \"\"\"\n",
    "    return filename.split('_')[0][1:]\n",
    "def get_mode(filename):\n",
    "    \"\"\" get mode from dirname \"\"\"\n",
    "    return int(file.split('_')[2][1])\n",
    "\n",
    "up_data_max = []\n",
    "down_data_max = []\n",
    "up_data_min = []\n",
    "down_data_min = []\n",
    "all_data = []\n",
    "\n",
    "up_data_sd = []\n",
    "down_data_sd = []\n",
    "\n",
    "up_data_mean = []\n",
    "down_data_mean = []\n",
    "\n",
    "all_data_max = []\n",
    "all_data_min = []\n",
    "all_data_mean = []\n",
    "all_data_sd = []\n",
    "\n",
    "PATH = \"/Users/yoony/Desktop/si_research/face_analysis/implicit_feedback_si_faceanalysis/processed\"\n",
    "csvs = []\n",
    "for file in sorted(os.listdir(PATH)):\n",
    "    if file[0] == '.':\n",
    "        continue\n",
    "    print(file)\n",
    "#     csvs.append(pd.read_csv(os.path.join(PATH + \"/\" + file, 'webcam/aggregated_webcam.csv')))\n",
    "    data = pd.read_csv(os.path.join(PATH + \"/\" + file, 'webcam/aggregated_webcam.csv'))\n",
    "    face_data = data.drop(columns=list(data.columns.values[2:678]))\n",
    "    face_data = face_data.drop(columns=list(face_data.columns.values[19:]))\n",
    "    face_data = face_data[(['frame', 'milis'] + [AU(x) for x in AUs_to_look_at])]\n",
    "    \n",
    "    signals = pd.read_csv('../my_buckets.csv')[['player_id', 'mode', 'signal_type', 'frame_number', 'code']]\n",
    "    s1 = signals.loc[(signals['player_id'] == get_pid(file)) & (signals['mode'] == get_mode(file))]\n",
    "    s_up = s1.loc[s1['signal_type'] == 'up'].frame_number.values\n",
    "    s_down = s1.loc[s1['signal_type'] == 'down'].frame_number.values\n",
    "    \n",
    "    for x in s_up:\n",
    "        up_locs = df_near(face_data, x)\n",
    "        up_data_max.append(max_df(up_locs))\n",
    "        up_data_min.append(min_df(up_locs))\n",
    "        up_data_sd.append(sd_df(up_locs))\n",
    "        up_data_mean.append(mean_df(up_locs))\n",
    "        \n",
    "        all_data_max.append(max_df(up_locs))\n",
    "        all_data_min.append(min_df(up_locs))\n",
    "        all_data_sd.append(sd_df(up_locs))\n",
    "        all_data_mean.append(mean_df(up_locs))\n",
    "        \n",
    "    for x in s_down:\n",
    "        down_locs = df_near(face_data, x)\n",
    "        down_data_max.append(max_df(down_locs))\n",
    "        down_data_min.append(min_df(down_locs))\n",
    "        down_data_sd.append(sd_df(down_locs))\n",
    "        down_data_mean.append(mean_df(down_locs))\n",
    "        \n",
    "        all_data_max.append(max_df(down_locs))\n",
    "        all_data_min.append(min_df(down_locs))\n",
    "        all_data_sd.append(sd_df(down_locs))\n",
    "        all_data_mean.append(mean_df(down_locs))\n",
    "        \n",
    "    all_data.append(face_data)\n",
    "    \n",
    "    "
   ]
  },
  {
   "cell_type": "code",
   "execution_count": 8,
   "id": "9ef31bff-5364-4610-93f2-69ca0737f20e",
   "metadata": {},
   "outputs": [],
   "source": [
    "def rename_columns(df, tag):\n",
    "    a = df.copy()\n",
    "    a.columns = list(map(lambda x: x + tag, a.columns))\n",
    "    return a\n",
    "\n",
    "def merge_dfs(dfs):\n",
    "    a = dfs[0]\n",
    "    for d in dfs[1:]:\n",
    "        a = a.join(d, how='outer')\n",
    "    return a\n",
    "        "
   ]
  },
  {
   "cell_type": "code",
   "execution_count": 9,
   "id": "d7694734-561b-40c3-a3d6-7c4fe4b2e424",
   "metadata": {},
   "outputs": [
    {
     "data": {
      "text/plain": [
       "22"
      ]
     },
     "execution_count": 9,
     "metadata": {},
     "output_type": "execute_result"
    }
   ],
   "source": [
    "len(up_data_min)\n",
    "len(down_data_min)"
   ]
  },
  {
   "cell_type": "code",
   "execution_count": 10,
   "id": "d3105d55-f691-4c70-8b91-408e4d230424",
   "metadata": {},
   "outputs": [],
   "source": [
    "u1 = rename_columns(pd.concat(up_data_max).drop(columns=['frame', 'milis']), '_max').reset_index(drop=True)\n",
    "u2 = rename_columns(pd.concat(up_data_min).drop(columns=['frame', 'milis']), '_min').reset_index(drop=True)\n",
    "u3 = rename_columns(pd.concat(up_data_mean).drop(columns=['frame', 'milis']), '_mean').reset_index(drop=True)\n",
    "u4 = rename_columns(pd.concat(up_data_sd).drop(columns=['frame', 'milis']), '_sd').reset_index(drop=True)"
   ]
  },
  {
   "cell_type": "code",
   "execution_count": 12,
   "id": "c5c3b053-0ddd-48f4-9522-f78ee520ea38",
   "metadata": {},
   "outputs": [],
   "source": [
    "# ups = merge_dfs([u1, u2, u3, u4])\n",
    "ups = merge_dfs([u1, u2, u3, u4])\n",
    "ups['type'] = 'up'"
   ]
  },
  {
   "cell_type": "code",
   "execution_count": 13,
   "id": "c4d9aa2f-91bf-4bbf-b4b5-adaa8d33e312",
   "metadata": {},
   "outputs": [],
   "source": [
    "d1 = rename_columns(pd.concat(down_data_max).drop(columns=['frame', 'milis']), '_max').reset_index(drop=True)\n",
    "d2 = rename_columns(pd.concat(down_data_min).drop(columns=['frame', 'milis']), '_min').reset_index(drop=True)\n",
    "d3 = rename_columns(pd.concat(down_data_mean).drop(columns=['frame', 'milis']), '_mean').reset_index(drop=True)\n",
    "d4 = rename_columns(pd.concat(down_data_sd).drop(columns=['frame', 'milis']), '_sd').reset_index(drop=True)"
   ]
  },
  {
   "cell_type": "code",
   "execution_count": 14,
   "id": "146ea44a-4c66-4eb7-a212-63fb1a737488",
   "metadata": {},
   "outputs": [],
   "source": [
    "# downs = merge_dfs([d1, d2, d3, d4])\n",
    "downs = merge_dfs([d1, d2, d3, d4])\n",
    "downs['type'] = 'down'"
   ]
  },
  {
   "cell_type": "code",
   "execution_count": 15,
   "id": "bf46fa0e-8bc6-4352-93fc-d3002908aa23",
   "metadata": {},
   "outputs": [
    {
     "data": {
      "text/html": [
       "<div>\n",
       "<style scoped>\n",
       "    .dataframe tbody tr th:only-of-type {\n",
       "        vertical-align: middle;\n",
       "    }\n",
       "\n",
       "    .dataframe tbody tr th {\n",
       "        vertical-align: top;\n",
       "    }\n",
       "\n",
       "    .dataframe thead th {\n",
       "        text-align: right;\n",
       "    }\n",
       "</style>\n",
       "<table border=\"1\" class=\"dataframe\">\n",
       "  <thead>\n",
       "    <tr style=\"text-align: right;\">\n",
       "      <th></th>\n",
       "      <th>up_mean</th>\n",
       "      <th>down_mean</th>\n",
       "      <th>mean_diff</th>\n",
       "      <th>up_sd</th>\n",
       "      <th>down_sd</th>\n",
       "      <th>sd_diff</th>\n",
       "    </tr>\n",
       "  </thead>\n",
       "  <tbody>\n",
       "    <tr>\n",
       "      <th>AU09_r</th>\n",
       "      <td>0.089526</td>\n",
       "      <td>0.049740</td>\n",
       "      <td>0.039786</td>\n",
       "      <td>0.102431</td>\n",
       "      <td>0.060722</td>\n",
       "      <td>0.041709</td>\n",
       "    </tr>\n",
       "    <tr>\n",
       "      <th>AU14_r</th>\n",
       "      <td>0.100206</td>\n",
       "      <td>0.045478</td>\n",
       "      <td>0.054728</td>\n",
       "      <td>0.114204</td>\n",
       "      <td>0.079375</td>\n",
       "      <td>0.034830</td>\n",
       "    </tr>\n",
       "    <tr>\n",
       "      <th>AU15_r</th>\n",
       "      <td>0.069041</td>\n",
       "      <td>0.078925</td>\n",
       "      <td>-0.009884</td>\n",
       "      <td>0.110572</td>\n",
       "      <td>0.072796</td>\n",
       "      <td>0.037776</td>\n",
       "    </tr>\n",
       "    <tr>\n",
       "      <th>AU17_r</th>\n",
       "      <td>0.138593</td>\n",
       "      <td>0.087048</td>\n",
       "      <td>0.051545</td>\n",
       "      <td>0.174185</td>\n",
       "      <td>0.111115</td>\n",
       "      <td>0.063070</td>\n",
       "    </tr>\n",
       "    <tr>\n",
       "      <th>AU20_r</th>\n",
       "      <td>0.144030</td>\n",
       "      <td>0.183142</td>\n",
       "      <td>-0.039112</td>\n",
       "      <td>0.094162</td>\n",
       "      <td>0.078059</td>\n",
       "      <td>0.016103</td>\n",
       "    </tr>\n",
       "    <tr>\n",
       "      <th>AU23_r</th>\n",
       "      <td>0.126909</td>\n",
       "      <td>0.082777</td>\n",
       "      <td>0.044132</td>\n",
       "      <td>0.110847</td>\n",
       "      <td>0.071134</td>\n",
       "      <td>0.039714</td>\n",
       "    </tr>\n",
       "    <tr>\n",
       "      <th>AU45_r</th>\n",
       "      <td>0.109927</td>\n",
       "      <td>0.159236</td>\n",
       "      <td>-0.049310</td>\n",
       "      <td>0.151040</td>\n",
       "      <td>0.190043</td>\n",
       "      <td>-0.039003</td>\n",
       "    </tr>\n",
       "  </tbody>\n",
       "</table>\n",
       "</div>"
      ],
      "text/plain": [
       "         up_mean  down_mean  mean_diff     up_sd   down_sd   sd_diff\n",
       "AU09_r  0.089526   0.049740   0.039786  0.102431  0.060722  0.041709\n",
       "AU14_r  0.100206   0.045478   0.054728  0.114204  0.079375  0.034830\n",
       "AU15_r  0.069041   0.078925  -0.009884  0.110572  0.072796  0.037776\n",
       "AU17_r  0.138593   0.087048   0.051545  0.174185  0.111115  0.063070\n",
       "AU20_r  0.144030   0.183142  -0.039112  0.094162  0.078059  0.016103\n",
       "AU23_r  0.126909   0.082777   0.044132  0.110847  0.071134  0.039714\n",
       "AU45_r  0.109927   0.159236  -0.049310  0.151040  0.190043 -0.039003"
      ]
     },
     "execution_count": 15,
     "metadata": {},
     "output_type": "execute_result"
    }
   ],
   "source": [
    "means = pd.DataFrame(pd.concat(up_data_sd).mean(), columns=['up_mean'])\n",
    "means['down_mean'] = pd.concat(down_data_sd).mean()\n",
    "means['mean_diff'] = means['up_mean'] - means['down_mean']\n",
    "means['up_sd'] = pd.concat(up_data_sd).std()\n",
    "means['down_sd'] = pd.concat(down_data_sd).std()\n",
    "means['sd_diff'] = means['up_sd'] - means['down_sd']\n",
    "means = means.drop(index=['frame', 'milis'])\n",
    "# means['total'] = pd.concat(all_data).mean\n",
    "# means.to_csv('face/au_data.csv')\n",
    "means"
   ]
  },
  {
   "cell_type": "code",
   "execution_count": 16,
   "id": "d1dccabb-7cc5-4179-9247-2843f1a2183c",
   "metadata": {},
   "outputs": [
    {
     "data": {
      "text/plain": [
       "86"
      ]
     },
     "execution_count": 16,
     "metadata": {},
     "output_type": "execute_result"
    }
   ],
   "source": [
    "len(up_data_max) + len(down_data_max)"
   ]
  },
  {
   "cell_type": "code",
   "execution_count": 17,
   "id": "c63ce48a-b9a7-4c90-ac9a-256e2a812101",
   "metadata": {},
   "outputs": [],
   "source": [
    "clf = svm.SVC(kernel='linear', class_weight='balanced')"
   ]
  },
  {
   "cell_type": "code",
   "execution_count": 18,
   "id": "e8b44828-888b-43f6-932f-d1369528abd0",
   "metadata": {},
   "outputs": [],
   "source": [
    "#clean up and finalize the data\n",
    "signal_data = pd.concat([ups, downs]).reset_index(drop=True)\n",
    "signal_data\n",
    "signal_types = signal_data['type'].values\n",
    "signal_data = signal_data.drop(columns=['type'])"
   ]
  },
  {
   "cell_type": "code",
   "execution_count": 19,
   "id": "c9c5e186-5d0a-42a0-b05c-0caf2b8bd67e",
   "metadata": {},
   "outputs": [],
   "source": [
    "# split up into testing and training\n",
    "X_train, X_test, y_train, y_test = train_test_split(signal_data, signal_types, test_size=0.3, random_state=109)"
   ]
  },
  {
   "cell_type": "code",
   "execution_count": 20,
   "id": "41f2ca59-9f68-435a-a5b5-4a9c2e7583f9",
   "metadata": {},
   "outputs": [],
   "source": [
    "# normalize inputs\n",
    "normalizer = preprocessing.Normalizer()\n",
    "\n",
    "norm_train_X = normalizer.fit_transform(X_train)\n",
    "\n",
    "norm_test_X = normalizer.transform(X_test)"
   ]
  },
  {
   "cell_type": "code",
   "execution_count": null,
   "id": "ff0ae913-5671-440c-97c7-14075fb26ff0",
   "metadata": {},
   "outputs": [],
   "source": []
  },
  {
   "cell_type": "code",
   "execution_count": 21,
   "id": "d7f5ee62-7459-470a-a282-b746848b2a1c",
   "metadata": {},
   "outputs": [],
   "source": [
    "# # normalize inputs\n",
    "# scaler = preprocessing.StandardScaler().fit(X_train)\n",
    "# X_train_scaled = scaler.transform(X_train)\n",
    "\n",
    "# scaler = preprocessing.StandardScaler().fit(X_test)\n",
    "# X_test_scaled = scaler.transform(X_test)"
   ]
  },
  {
   "cell_type": "code",
   "execution_count": 22,
   "id": "c15a6e39-a209-4725-81fb-cffdfaae9a05",
   "metadata": {},
   "outputs": [
    {
     "data": {
      "text/plain": [
       "SVC(class_weight='balanced', kernel='linear')"
      ]
     },
     "execution_count": 22,
     "metadata": {},
     "output_type": "execute_result"
    }
   ],
   "source": [
    "# fit data\n",
    "clf.fit(norm_train_X, y_train)"
   ]
  },
  {
   "cell_type": "code",
   "execution_count": 23,
   "id": "502cec89-717f-4a24-8414-87754ced2ccf",
   "metadata": {},
   "outputs": [],
   "source": [
    "# predict\n",
    "y_pred = clf.predict(norm_test_X)"
   ]
  },
  {
   "cell_type": "code",
   "execution_count": 32,
   "id": "a51bbd0f-a372-41ea-a20e-d00a1c527e1b",
   "metadata": {},
   "outputs": [
    {
     "data": {
      "text/plain": [
       "array([0.3   , 0.5625])"
      ]
     },
     "execution_count": 32,
     "metadata": {},
     "output_type": "execute_result"
    }
   ],
   "source": [
    "metrics.f1_score(y_test, y_pred, average=None)"
   ]
  },
  {
   "cell_type": "code",
   "execution_count": 33,
   "id": "91487f54-342f-49b1-89aa-7179e060b3f1",
   "metadata": {},
   "outputs": [
    {
     "data": {
      "text/plain": [
       "0.5625"
      ]
     },
     "execution_count": 33,
     "metadata": {},
     "output_type": "execute_result"
    }
   ],
   "source": [
    "metrics.f1_score(y_test, y_pred, average='binary', pos_label='up')"
   ]
  },
  {
   "cell_type": "code",
   "execution_count": 34,
   "id": "a14c7ea9-aabd-48e0-8298-f5a1acede8cd",
   "metadata": {},
   "outputs": [
    {
     "data": {
      "text/plain": [
       "0.3"
      ]
     },
     "execution_count": 34,
     "metadata": {},
     "output_type": "execute_result"
    }
   ],
   "source": [
    "metrics.f1_score(y_test, y_pred, average='binary', pos_label='down')"
   ]
  },
  {
   "cell_type": "code",
   "execution_count": 25,
   "id": "775c94fa-c167-47b3-9a6d-089d7146f4a1",
   "metadata": {},
   "outputs": [
    {
     "data": {
      "text/html": [
       "<div>\n",
       "<style scoped>\n",
       "    .dataframe tbody tr th:only-of-type {\n",
       "        vertical-align: middle;\n",
       "    }\n",
       "\n",
       "    .dataframe tbody tr th {\n",
       "        vertical-align: top;\n",
       "    }\n",
       "\n",
       "    .dataframe thead th {\n",
       "        text-align: right;\n",
       "    }\n",
       "</style>\n",
       "<table border=\"1\" class=\"dataframe\">\n",
       "  <thead>\n",
       "    <tr style=\"text-align: right;\">\n",
       "      <th></th>\n",
       "      <th>test</th>\n",
       "      <th>pred</th>\n",
       "    </tr>\n",
       "  </thead>\n",
       "  <tbody>\n",
       "    <tr>\n",
       "      <th>0</th>\n",
       "      <td>up</td>\n",
       "      <td>up</td>\n",
       "    </tr>\n",
       "    <tr>\n",
       "      <th>1</th>\n",
       "      <td>up</td>\n",
       "      <td>up</td>\n",
       "    </tr>\n",
       "    <tr>\n",
       "      <th>2</th>\n",
       "      <td>up</td>\n",
       "      <td>up</td>\n",
       "    </tr>\n",
       "    <tr>\n",
       "      <th>3</th>\n",
       "      <td>up</td>\n",
       "      <td>down</td>\n",
       "    </tr>\n",
       "    <tr>\n",
       "      <th>4</th>\n",
       "      <td>up</td>\n",
       "      <td>up</td>\n",
       "    </tr>\n",
       "    <tr>\n",
       "      <th>5</th>\n",
       "      <td>up</td>\n",
       "      <td>up</td>\n",
       "    </tr>\n",
       "    <tr>\n",
       "      <th>6</th>\n",
       "      <td>up</td>\n",
       "      <td>down</td>\n",
       "    </tr>\n",
       "    <tr>\n",
       "      <th>7</th>\n",
       "      <td>down</td>\n",
       "      <td>down</td>\n",
       "    </tr>\n",
       "    <tr>\n",
       "      <th>8</th>\n",
       "      <td>up</td>\n",
       "      <td>down</td>\n",
       "    </tr>\n",
       "    <tr>\n",
       "      <th>9</th>\n",
       "      <td>up</td>\n",
       "      <td>down</td>\n",
       "    </tr>\n",
       "    <tr>\n",
       "      <th>10</th>\n",
       "      <td>down</td>\n",
       "      <td>down</td>\n",
       "    </tr>\n",
       "    <tr>\n",
       "      <th>11</th>\n",
       "      <td>up</td>\n",
       "      <td>down</td>\n",
       "    </tr>\n",
       "    <tr>\n",
       "      <th>12</th>\n",
       "      <td>up</td>\n",
       "      <td>down</td>\n",
       "    </tr>\n",
       "    <tr>\n",
       "      <th>13</th>\n",
       "      <td>up</td>\n",
       "      <td>up</td>\n",
       "    </tr>\n",
       "    <tr>\n",
       "      <th>14</th>\n",
       "      <td>up</td>\n",
       "      <td>down</td>\n",
       "    </tr>\n",
       "    <tr>\n",
       "      <th>15</th>\n",
       "      <td>up</td>\n",
       "      <td>down</td>\n",
       "    </tr>\n",
       "    <tr>\n",
       "      <th>16</th>\n",
       "      <td>down</td>\n",
       "      <td>up</td>\n",
       "    </tr>\n",
       "    <tr>\n",
       "      <th>17</th>\n",
       "      <td>up</td>\n",
       "      <td>up</td>\n",
       "    </tr>\n",
       "    <tr>\n",
       "      <th>18</th>\n",
       "      <td>down</td>\n",
       "      <td>up</td>\n",
       "    </tr>\n",
       "    <tr>\n",
       "      <th>19</th>\n",
       "      <td>down</td>\n",
       "      <td>down</td>\n",
       "    </tr>\n",
       "    <tr>\n",
       "      <th>20</th>\n",
       "      <td>up</td>\n",
       "      <td>down</td>\n",
       "    </tr>\n",
       "    <tr>\n",
       "      <th>21</th>\n",
       "      <td>up</td>\n",
       "      <td>down</td>\n",
       "    </tr>\n",
       "    <tr>\n",
       "      <th>22</th>\n",
       "      <td>up</td>\n",
       "      <td>down</td>\n",
       "    </tr>\n",
       "    <tr>\n",
       "      <th>23</th>\n",
       "      <td>up</td>\n",
       "      <td>up</td>\n",
       "    </tr>\n",
       "    <tr>\n",
       "      <th>24</th>\n",
       "      <td>up</td>\n",
       "      <td>up</td>\n",
       "    </tr>\n",
       "    <tr>\n",
       "      <th>25</th>\n",
       "      <td>up</td>\n",
       "      <td>down</td>\n",
       "    </tr>\n",
       "  </tbody>\n",
       "</table>\n",
       "</div>"
      ],
      "text/plain": [
       "    test  pred\n",
       "0     up    up\n",
       "1     up    up\n",
       "2     up    up\n",
       "3     up  down\n",
       "4     up    up\n",
       "5     up    up\n",
       "6     up  down\n",
       "7   down  down\n",
       "8     up  down\n",
       "9     up  down\n",
       "10  down  down\n",
       "11    up  down\n",
       "12    up  down\n",
       "13    up    up\n",
       "14    up  down\n",
       "15    up  down\n",
       "16  down    up\n",
       "17    up    up\n",
       "18  down    up\n",
       "19  down  down\n",
       "20    up  down\n",
       "21    up  down\n",
       "22    up  down\n",
       "23    up    up\n",
       "24    up    up\n",
       "25    up  down"
      ]
     },
     "execution_count": 25,
     "metadata": {},
     "output_type": "execute_result"
    }
   ],
   "source": [
    "r = pd.DataFrame(columns=['test', 'pred'])\n",
    "r['test'] = y_test\n",
    "r['pred'] = y_pred"
   ]
  },
  {
   "cell_type": "code",
   "execution_count": null,
   "id": "5d395bfe-5026-4b52-8918-ddbd1eccc585",
   "metadata": {},
   "outputs": [],
   "source": []
  },
  {
   "cell_type": "code",
   "execution_count": null,
   "id": "941635a3-a6b2-43ae-8c63-3c566e116985",
   "metadata": {},
   "outputs": [],
   "source": []
  }
 ],
 "metadata": {
  "kernelspec": {
   "display_name": "Python 3 (ipykernel)",
   "language": "python",
   "name": "python3"
  },
  "language_info": {
   "codemirror_mode": {
    "name": "ipython",
    "version": 3
   },
   "file_extension": ".py",
   "mimetype": "text/x-python",
   "name": "python",
   "nbconvert_exporter": "python",
   "pygments_lexer": "ipython3",
   "version": "3.7.10"
  }
 },
 "nbformat": 4,
 "nbformat_minor": 5
}
