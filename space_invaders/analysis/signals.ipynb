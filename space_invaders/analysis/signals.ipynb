{
 "cells": [
  {
   "cell_type": "code",
   "execution_count": 16,
   "id": "523e2d79-15b6-4281-a04e-a7e964f9e285",
   "metadata": {},
   "outputs": [],
   "source": [
    "import json\n",
    "import pandas as pd\n",
    "import os\n",
    "\n",
    "# This notebook generates a csv of each signal pressed"
   ]
  },
  {
   "cell_type": "code",
   "execution_count": 2,
   "id": "fac45b86-2b43-41cc-85e2-1cfdfcf9c7da",
   "metadata": {},
   "outputs": [],
   "source": [
    "PATH = \"../../collected_data/pilot_merged/game_logs/\""
   ]
  },
  {
   "cell_type": "code",
   "execution_count": 3,
   "id": "1a797862-4163-41ba-bfeb-430644e7a88a",
   "metadata": {},
   "outputs": [
    {
     "name": "stdout",
     "output_type": "stream",
     "text": [
      "loading: 5ee6d2494fd04045b988a12d mode1\n",
      "loading: 5ee6d2494fd04045b988a12d mode2\n",
      "loading: 5ef33c05f4c5240413ef9ac2 mode1\n",
      "loading: 5ef33c05f4c5240413ef9ac2 mode2\n",
      "loading: 5fc9a415aacaf14df94e6868 mode1\n",
      "loading: 5fc9a415aacaf14df94e6868 mode2\n",
      "loading: 6081c511ded5945d9b70801e mode1\n",
      "loading: 6081c511ded5945d9b70801e mode2\n",
      "loading: 60d520539b147c4acaf44b77 mode1\n",
      "loading: 60d520539b147c4acaf44b77 mode2\n",
      "loading: 60e5e62659dc1912bc43ed35 mode1\n",
      "loading: 60e5e62659dc1912bc43ed35 mode2\n",
      "loading: 60e7a66b2cb32cc90fade4e6 mode1\n",
      "loading: 60e7a66b2cb32cc90fade4e6 mode2\n",
      "loading: 60e9e9618953d7a3430dd8f6 mode1\n",
      "loading: 60e9e9618953d7a3430dd8f6 mode2\n",
      "loading: 60edb7015a9231789057bdea mode1\n",
      "loading: 60edb7015a9231789057bdea mode2\n",
      "loading: 60fdbe65ebde43c719f0a07c mode1\n",
      "loading: 60fdbe65ebde43c719f0a07c mode2\n",
      "loading: 60feed8e976bc867f41f91f8 mode1\n",
      "loading: 60feed8e976bc867f41f91f8 mode2\n",
      "loading: 61017fa8773be3bcfb745b82 mode1\n",
      "loading: 61017fa8773be3bcfb745b82 mode2\n",
      "loading: 6107f6bdc8e5d4c5b8daf4c1 mode1\n",
      "loading: 6107f6bdc8e5d4c5b8daf4c1 mode2\n",
      "loading: 6107f8f9c8d6e8a294ff1dd6 mode1\n",
      "loading: 6107f8f9c8d6e8a294ff1dd6 mode2\n",
      "loading: 610837720098e4d537f6d50b mode1\n",
      "loading: 610837720098e4d537f6d50b mode2\n",
      "loading: 61083d0cd5238a0405e40d81 mode1\n",
      "loading: 61083d0cd5238a0405e40d81 mode2\n",
      "loading: 61084126f133c28acb14c15b mode1\n",
      "loading: 61084126f133c28acb14c15b mode2\n",
      "loading: 6108444b19662154fc782bb5 mode1\n",
      "loading: 6108444b19662154fc782bb5 mode2\n",
      "loading: 61084b29eaf447617f3bf4a3 mode1\n",
      "loading: 61084b29eaf447617f3bf4a3 mode2\n",
      "loading: 6108519b1b1796459ad36a47 mode1\n",
      "loading: 6108519b1b1796459ad36a47 mode2\n",
      "loading: 6108528ed0f643feda6a8bc5 mode1\n",
      "loading: 6108528ed0f643feda6a8bc5 mode2\n",
      "loading: 61085d9d4bbc4cf358dfb1d7 mode1\n",
      "loading: 61085d9d4bbc4cf358dfb1d7 mode2\n",
      "loading: 6108969a42b2e1738ca05309 mode1\n",
      "loading: 6108969a42b2e1738ca05309 mode2\n",
      "loading: 6108a9fa94f1d9dbdcb0d322 mode1\n",
      "loading: 6108a9fa94f1d9dbdcb0d322 mode2\n",
      "loading: 6108ac76f73dfaf3c27db5b9 mode1\n",
      "loading: 6108ac76f73dfaf3c27db5b9 mode2\n",
      "loading: 6108c66b12dd5a199f12a937 mode1\n",
      "loading: 6108c66b12dd5a199f12a937 mode2\n",
      "loading: 61096ca0999b16524e70304f mode1\n",
      "loading: 61096ca0999b16524e70304f mode2\n",
      "loading: 6109746d0c492f63aca8cddd mode1\n",
      "loading: 6109746d0c492f63aca8cddd mode2\n",
      "loading: 610999778e6142549b918cce mode1\n",
      "loading: 610999778e6142549b918cce mode2\n",
      "loading: 6109b06dfa1c2030742239ec mode1\n",
      "loading: 6109b06dfa1c2030742239ec mode2\n",
      "loading: 6109bd0d694d2a4ea75bacf1 mode1\n",
      "loading: 6109bd0d694d2a4ea75bacf1 mode2\n",
      "loading: 6109bd72fa4cdd8f9585cc43 mode1\n",
      "loading: 6109bd72fa4cdd8f9585cc43 mode2\n",
      "loading: 6109c3a7a0e6d2a434e2fd60 mode1\n",
      "loading: 6109c3a7a0e6d2a434e2fd60 mode2\n",
      "loading: 610a58b6c0de3eaaf1c566a2 mode1\n",
      "loading: 610a58b6c0de3eaaf1c566a2 mode2\n",
      "loading: 610ad8111e76c155f89fa26d mode1\n",
      "loading: 610ad8111e76c155f89fa26d mode2\n",
      "loading: 610ae121a29b11dc55916f3e mode1\n",
      "loading: 610ae121a29b11dc55916f3e mode2\n",
      "loading: 610ae91ba2b28abc2bfdb685 mode1\n",
      "loading: 610ae91ba2b28abc2bfdb685 mode2\n",
      "loading: 610aebd03f7daffc2fcce4b9 mode1\n",
      "loading: 610aebd03f7daffc2fcce4b9 mode2\n"
     ]
    }
   ],
   "source": [
    "dfs = []\n",
    "for file in sorted(os.listdir(PATH)):\n",
    "    if not file.startswith('.'):\n",
    "        with open(PATH + file, 'r') as f:\n",
    "            data = json.loads(f.read())\n",
    "        df = pd.json_normalize(data, record_path = ['frames'])\n",
    "        df['player_id'] = data['player_id']\n",
    "        df['mode'] = data['mode']\n",
    "        dfs.append(df[['player_id', 'mode', 'signal_up', 'signal_down', 'tried_signal_up', 'tried_signal_down', 'frame_number']][df['signal_up'] | df['signal_down']])\n",
    "        print('loading: {} mode{}'.format(data['player_id'], data['mode']))"
   ]
  },
  {
   "cell_type": "code",
   "execution_count": 4,
   "id": "0fc784fc-8645-4894-b2e9-d54f7492652b",
   "metadata": {},
   "outputs": [],
   "source": [
    "# dfs[0]"
   ]
  },
  {
   "cell_type": "code",
   "execution_count": 5,
   "id": "70c31d40-98dd-4b90-b183-6f9e40d19089",
   "metadata": {},
   "outputs": [],
   "source": [
    "# dfs[1]"
   ]
  },
  {
   "cell_type": "code",
   "execution_count": 6,
   "id": "1fa34023-b044-46d9-bb5c-3379fff9a06c",
   "metadata": {},
   "outputs": [],
   "source": [
    "# dfs[2]"
   ]
  },
  {
   "cell_type": "code",
   "execution_count": 7,
   "id": "cfb46a67-72b3-4114-a571-556013c607ef",
   "metadata": {},
   "outputs": [],
   "source": [
    "# dfs[3]"
   ]
  },
  {
   "cell_type": "code",
   "execution_count": 8,
   "id": "94674ce2-6baf-4e99-ad81-405794929ae6",
   "metadata": {},
   "outputs": [],
   "source": [
    "# dfs[4]"
   ]
  },
  {
   "cell_type": "code",
   "execution_count": 9,
   "id": "dd2118d5-390e-4863-935b-f5782118e35c",
   "metadata": {},
   "outputs": [],
   "source": [
    "# dfs[5]"
   ]
  },
  {
   "cell_type": "code",
   "execution_count": 10,
   "id": "9c40b355-b145-4c7d-b822-2968e8e678b2",
   "metadata": {},
   "outputs": [],
   "source": [
    "# dfs[6]"
   ]
  },
  {
   "cell_type": "code",
   "execution_count": 11,
   "id": "dc1045d7-ae48-474d-9936-d9bb174ccf35",
   "metadata": {},
   "outputs": [],
   "source": [
    "# dfs[7]"
   ]
  },
  {
   "cell_type": "code",
   "execution_count": 12,
   "id": "234b919f-e97d-4787-bb08-d0a015358e05",
   "metadata": {},
   "outputs": [],
   "source": [
    "d = pd.concat(dfs)"
   ]
  },
  {
   "cell_type": "code",
   "execution_count": 13,
   "id": "3a8ec985-8859-46dd-a6d8-fdfb1ffc9b9e",
   "metadata": {},
   "outputs": [],
   "source": [
    "d.loc[d['signal_down'],['signal_type']] = 'down'\n",
    "d.loc[d['signal_up'],['signal_type']] = 'up'"
   ]
  },
  {
   "cell_type": "code",
   "execution_count": 14,
   "id": "6c6d2209-a727-446f-b23b-2d944861f17b",
   "metadata": {},
   "outputs": [],
   "source": [
    "final_signals_data = d[['player_id', 'mode', 'signal_type', 'frame_number']]\n",
    "final_signals_data.to_csv('signals_all_pilots.csv', index=False)\n"
   ]
  },
  {
   "cell_type": "code",
   "execution_count": 15,
   "id": "403435aa-c5de-43bc-ac40-f5ca6f3f7370",
   "metadata": {},
   "outputs": [
    {
     "data": {
      "text/html": [
       "<div>\n",
       "<style scoped>\n",
       "    .dataframe tbody tr th:only-of-type {\n",
       "        vertical-align: middle;\n",
       "    }\n",
       "\n",
       "    .dataframe tbody tr th {\n",
       "        vertical-align: top;\n",
       "    }\n",
       "\n",
       "    .dataframe thead th {\n",
       "        text-align: right;\n",
       "    }\n",
       "</style>\n",
       "<table border=\"1\" class=\"dataframe\">\n",
       "  <thead>\n",
       "    <tr style=\"text-align: right;\">\n",
       "      <th></th>\n",
       "      <th>player_id</th>\n",
       "      <th>mode</th>\n",
       "      <th>signal_type</th>\n",
       "      <th>frame_number</th>\n",
       "    </tr>\n",
       "  </thead>\n",
       "  <tbody>\n",
       "    <tr>\n",
       "      <th>165</th>\n",
       "      <td>5ee6d2494fd04045b988a12d</td>\n",
       "      <td>1</td>\n",
       "      <td>up</td>\n",
       "      <td>165</td>\n",
       "    </tr>\n",
       "    <tr>\n",
       "      <th>480</th>\n",
       "      <td>5ee6d2494fd04045b988a12d</td>\n",
       "      <td>1</td>\n",
       "      <td>up</td>\n",
       "      <td>480</td>\n",
       "    </tr>\n",
       "    <tr>\n",
       "      <th>708</th>\n",
       "      <td>5ee6d2494fd04045b988a12d</td>\n",
       "      <td>1</td>\n",
       "      <td>up</td>\n",
       "      <td>708</td>\n",
       "    </tr>\n",
       "    <tr>\n",
       "      <th>1145</th>\n",
       "      <td>5ee6d2494fd04045b988a12d</td>\n",
       "      <td>1</td>\n",
       "      <td>up</td>\n",
       "      <td>1145</td>\n",
       "    </tr>\n",
       "    <tr>\n",
       "      <th>1621</th>\n",
       "      <td>5ee6d2494fd04045b988a12d</td>\n",
       "      <td>1</td>\n",
       "      <td>up</td>\n",
       "      <td>1621</td>\n",
       "    </tr>\n",
       "    <tr>\n",
       "      <th>...</th>\n",
       "      <td>...</td>\n",
       "      <td>...</td>\n",
       "      <td>...</td>\n",
       "      <td>...</td>\n",
       "    </tr>\n",
       "    <tr>\n",
       "      <th>434</th>\n",
       "      <td>610aebd03f7daffc2fcce4b9</td>\n",
       "      <td>2</td>\n",
       "      <td>up</td>\n",
       "      <td>434</td>\n",
       "    </tr>\n",
       "    <tr>\n",
       "      <th>536</th>\n",
       "      <td>610aebd03f7daffc2fcce4b9</td>\n",
       "      <td>2</td>\n",
       "      <td>up</td>\n",
       "      <td>536</td>\n",
       "    </tr>\n",
       "    <tr>\n",
       "      <th>1204</th>\n",
       "      <td>610aebd03f7daffc2fcce4b9</td>\n",
       "      <td>2</td>\n",
       "      <td>up</td>\n",
       "      <td>1204</td>\n",
       "    </tr>\n",
       "    <tr>\n",
       "      <th>1952</th>\n",
       "      <td>610aebd03f7daffc2fcce4b9</td>\n",
       "      <td>2</td>\n",
       "      <td>up</td>\n",
       "      <td>1952</td>\n",
       "    </tr>\n",
       "    <tr>\n",
       "      <th>2186</th>\n",
       "      <td>610aebd03f7daffc2fcce4b9</td>\n",
       "      <td>2</td>\n",
       "      <td>up</td>\n",
       "      <td>2186</td>\n",
       "    </tr>\n",
       "  </tbody>\n",
       "</table>\n",
       "<p>327 rows × 4 columns</p>\n",
       "</div>"
      ],
      "text/plain": [
       "                     player_id  mode signal_type  frame_number\n",
       "165   5ee6d2494fd04045b988a12d     1          up           165\n",
       "480   5ee6d2494fd04045b988a12d     1          up           480\n",
       "708   5ee6d2494fd04045b988a12d     1          up           708\n",
       "1145  5ee6d2494fd04045b988a12d     1          up          1145\n",
       "1621  5ee6d2494fd04045b988a12d     1          up          1621\n",
       "...                        ...   ...         ...           ...\n",
       "434   610aebd03f7daffc2fcce4b9     2          up           434\n",
       "536   610aebd03f7daffc2fcce4b9     2          up           536\n",
       "1204  610aebd03f7daffc2fcce4b9     2          up          1204\n",
       "1952  610aebd03f7daffc2fcce4b9     2          up          1952\n",
       "2186  610aebd03f7daffc2fcce4b9     2          up          2186\n",
       "\n",
       "[327 rows x 4 columns]"
      ]
     },
     "execution_count": 15,
     "metadata": {},
     "output_type": "execute_result"
    }
   ],
   "source": [
    "final_signals_data"
   ]
  },
  {
   "cell_type": "code",
   "execution_count": null,
   "id": "21b3138e-b898-443b-ae19-696a7bfe5424",
   "metadata": {},
   "outputs": [],
   "source": []
  }
 ],
 "metadata": {
  "kernelspec": {
   "display_name": "Python 3 (ipykernel)",
   "language": "python",
   "name": "python3"
  },
  "language_info": {
   "codemirror_mode": {
    "name": "ipython",
    "version": 3
   },
   "file_extension": ".py",
   "mimetype": "text/x-python",
   "name": "python",
   "nbconvert_exporter": "python",
   "pygments_lexer": "ipython3",
   "version": "3.7.10"
  }
 },
 "nbformat": 4,
 "nbformat_minor": 5
}
