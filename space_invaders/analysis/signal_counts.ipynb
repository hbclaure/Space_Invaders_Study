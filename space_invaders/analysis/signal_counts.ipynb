{
 "cells": [
  {
   "cell_type": "code",
   "execution_count": 3,
   "id": "523e2d79-15b6-4281-a04e-a7e964f9e285",
   "metadata": {},
   "outputs": [],
   "source": [
    "import json\n",
    "import pandas as pd\n",
    "import os"
   ]
  },
  {
   "cell_type": "code",
   "execution_count": 6,
   "id": "fac45b86-2b43-41cc-85e2-1cfdfcf9c7da",
   "metadata": {},
   "outputs": [],
   "source": [
    "PATH = \"../../collected_data/pilot_merged/game_logs/\""
   ]
  },
  {
   "cell_type": "code",
   "execution_count": 7,
   "id": "1a797862-4163-41ba-bfeb-430644e7a88a",
   "metadata": {},
   "outputs": [
    {
     "name": "stdout",
     "output_type": "stream",
     "text": [
      "loading: 5ee6d2494fd04045b988a12d mode1\n",
      "loading: 5ee6d2494fd04045b988a12d mode2\n",
      "loading: 5ef33c05f4c5240413ef9ac2 mode1\n",
      "loading: 5ef33c05f4c5240413ef9ac2 mode2\n",
      "loading: 5fc9a415aacaf14df94e6868 mode1\n",
      "loading: 5fc9a415aacaf14df94e6868 mode2\n",
      "loading: 6081c511ded5945d9b70801e mode1\n",
      "loading: 6081c511ded5945d9b70801e mode2\n",
      "loading: 60d520539b147c4acaf44b77 mode1\n",
      "loading: 60d520539b147c4acaf44b77 mode2\n",
      "loading: 60e5e62659dc1912bc43ed35 mode1\n",
      "loading: 60e5e62659dc1912bc43ed35 mode2\n",
      "loading: 60e7a66b2cb32cc90fade4e6 mode1\n",
      "loading: 60e7a66b2cb32cc90fade4e6 mode2\n",
      "loading: 60e9e9618953d7a3430dd8f6 mode1\n",
      "loading: 60e9e9618953d7a3430dd8f6 mode2\n",
      "loading: 60edb7015a9231789057bdea mode1\n",
      "loading: 60edb7015a9231789057bdea mode2\n",
      "loading: 60fdbe65ebde43c719f0a07c mode1\n",
      "loading: 60fdbe65ebde43c719f0a07c mode2\n",
      "loading: 60feed8e976bc867f41f91f8 mode1\n",
      "loading: 60feed8e976bc867f41f91f8 mode2\n",
      "loading: 61017fa8773be3bcfb745b82 mode1\n",
      "loading: 61017fa8773be3bcfb745b82 mode2\n",
      "loading: 6107f6bdc8e5d4c5b8daf4c1 mode1\n",
      "loading: 6107f6bdc8e5d4c5b8daf4c1 mode2\n",
      "loading: 6107f8f9c8d6e8a294ff1dd6 mode1\n",
      "loading: 6107f8f9c8d6e8a294ff1dd6 mode2\n",
      "loading: 610837720098e4d537f6d50b mode1\n",
      "loading: 610837720098e4d537f6d50b mode2\n",
      "loading: 61083d0cd5238a0405e40d81 mode1\n",
      "loading: 61083d0cd5238a0405e40d81 mode2\n",
      "loading: 61084126f133c28acb14c15b mode1\n",
      "loading: 61084126f133c28acb14c15b mode2\n",
      "loading: 6108444b19662154fc782bb5 mode1\n",
      "loading: 6108444b19662154fc782bb5 mode2\n",
      "loading: 61084b29eaf447617f3bf4a3 mode1\n",
      "loading: 61084b29eaf447617f3bf4a3 mode2\n",
      "loading: 6108519b1b1796459ad36a47 mode1\n",
      "loading: 6108519b1b1796459ad36a47 mode2\n",
      "loading: 6108528ed0f643feda6a8bc5 mode1\n",
      "loading: 6108528ed0f643feda6a8bc5 mode2\n",
      "loading: 61085d9d4bbc4cf358dfb1d7 mode1\n",
      "loading: 61085d9d4bbc4cf358dfb1d7 mode2\n",
      "loading: 6108969a42b2e1738ca05309 mode1\n",
      "loading: 6108969a42b2e1738ca05309 mode2\n",
      "loading: 6108a9fa94f1d9dbdcb0d322 mode1\n",
      "loading: 6108a9fa94f1d9dbdcb0d322 mode2\n",
      "loading: 6108ac76f73dfaf3c27db5b9 mode1\n",
      "loading: 6108ac76f73dfaf3c27db5b9 mode2\n",
      "loading: 6108c66b12dd5a199f12a937 mode1\n",
      "loading: 6108c66b12dd5a199f12a937 mode2\n",
      "loading: 61096ca0999b16524e70304f mode1\n",
      "loading: 61096ca0999b16524e70304f mode2\n",
      "loading: 6109746d0c492f63aca8cddd mode1\n",
      "loading: 6109746d0c492f63aca8cddd mode2\n",
      "loading: 610999778e6142549b918cce mode1\n",
      "loading: 610999778e6142549b918cce mode2\n",
      "loading: 6109b06dfa1c2030742239ec mode1\n",
      "loading: 6109b06dfa1c2030742239ec mode2\n",
      "loading: 6109bd0d694d2a4ea75bacf1 mode1\n",
      "loading: 6109bd0d694d2a4ea75bacf1 mode2\n",
      "loading: 6109bd72fa4cdd8f9585cc43 mode1\n",
      "loading: 6109bd72fa4cdd8f9585cc43 mode2\n",
      "loading: 6109c3a7a0e6d2a434e2fd60 mode1\n",
      "loading: 6109c3a7a0e6d2a434e2fd60 mode2\n",
      "loading: 610a58b6c0de3eaaf1c566a2 mode1\n",
      "loading: 610a58b6c0de3eaaf1c566a2 mode2\n",
      "loading: 610ad8111e76c155f89fa26d mode1\n",
      "loading: 610ad8111e76c155f89fa26d mode2\n",
      "loading: 610ae121a29b11dc55916f3e mode1\n",
      "loading: 610ae121a29b11dc55916f3e mode2\n",
      "loading: 610ae91ba2b28abc2bfdb685 mode1\n",
      "loading: 610ae91ba2b28abc2bfdb685 mode2\n",
      "loading: 610aebd03f7daffc2fcce4b9 mode1\n",
      "loading: 610aebd03f7daffc2fcce4b9 mode2\n"
     ]
    }
   ],
   "source": [
    "dfs = []\n",
    "dicts = []\n",
    "for file in sorted(os.listdir(PATH)):\n",
    "    if not file.startswith('.'):\n",
    "        with open(PATH + file, 'r') as f:\n",
    "            data = json.loads(f.read())\n",
    "        df = pd.json_normalize(data, record_path = ['frames'])\n",
    "        s_df = pd.DataFrame()\n",
    "        s_df = {'player_id': data['player_id'],\n",
    "                'mode': data['mode'],\n",
    "                'up_count': df.loc[df['signal_up'] == True].shape[0],\n",
    "                'down_count': df.loc[df['signal_down'] == True].shape[0]}\n",
    "        dicts.append(s_df)\n",
    "                \n",
    "        print('loading: {} mode{}'.format(data['player_id'], data['mode']))"
   ]
  },
  {
   "cell_type": "code",
   "execution_count": 7,
   "id": "0fc784fc-8645-4894-b2e9-d54f7492652b",
   "metadata": {},
   "outputs": [
    {
     "data": {
      "text/html": [
       "<div>\n",
       "<style scoped>\n",
       "    .dataframe tbody tr th:only-of-type {\n",
       "        vertical-align: middle;\n",
       "    }\n",
       "\n",
       "    .dataframe tbody tr th {\n",
       "        vertical-align: top;\n",
       "    }\n",
       "\n",
       "    .dataframe thead th {\n",
       "        text-align: right;\n",
       "    }\n",
       "</style>\n",
       "<table border=\"1\" class=\"dataframe\">\n",
       "  <thead>\n",
       "    <tr style=\"text-align: right;\">\n",
       "      <th></th>\n",
       "      <th>player_id</th>\n",
       "      <th>mode</th>\n",
       "      <th>up_count</th>\n",
       "      <th>down_count</th>\n",
       "    </tr>\n",
       "  </thead>\n",
       "  <tbody>\n",
       "  </tbody>\n",
       "</table>\n",
       "</div>"
      ],
      "text/plain": [
       "Empty DataFrame\n",
       "Columns: [player_id, mode, up_count, down_count]\n",
       "Index: []"
      ]
     },
     "execution_count": 7,
     "metadata": {},
     "output_type": "execute_result"
    }
   ],
   "source": [
    "dfs[0]"
   ]
  },
  {
   "cell_type": "code",
   "execution_count": 5,
   "id": "70c31d40-98dd-4b90-b183-6f9e40d19089",
   "metadata": {},
   "outputs": [],
   "source": [
    "# dfs[1]"
   ]
  },
  {
   "cell_type": "code",
   "execution_count": 6,
   "id": "1fa34023-b044-46d9-bb5c-3379fff9a06c",
   "metadata": {},
   "outputs": [],
   "source": [
    "# dfs[2]"
   ]
  },
  {
   "cell_type": "code",
   "execution_count": 7,
   "id": "cfb46a67-72b3-4114-a571-556013c607ef",
   "metadata": {},
   "outputs": [],
   "source": [
    "# dfs[3]"
   ]
  },
  {
   "cell_type": "code",
   "execution_count": 8,
   "id": "94674ce2-6baf-4e99-ad81-405794929ae6",
   "metadata": {},
   "outputs": [],
   "source": [
    "# dfs[4]"
   ]
  },
  {
   "cell_type": "code",
   "execution_count": 9,
   "id": "dd2118d5-390e-4863-935b-f5782118e35c",
   "metadata": {},
   "outputs": [],
   "source": [
    "# dfs[5]"
   ]
  },
  {
   "cell_type": "code",
   "execution_count": 10,
   "id": "9c40b355-b145-4c7d-b822-2968e8e678b2",
   "metadata": {},
   "outputs": [],
   "source": [
    "# dfs[6]"
   ]
  },
  {
   "cell_type": "code",
   "execution_count": 11,
   "id": "dc1045d7-ae48-474d-9936-d9bb174ccf35",
   "metadata": {},
   "outputs": [],
   "source": [
    "# dfs[7]"
   ]
  },
  {
   "cell_type": "code",
   "execution_count": 9,
   "id": "234b919f-e97d-4787-bb08-d0a015358e05",
   "metadata": {},
   "outputs": [],
   "source": [
    "signals = pd.DataFrame(dicts)\n",
    "signals.head()\n",
    "signals.to_csv('signal_counts_all.csv')"
   ]
  },
  {
   "cell_type": "code",
   "execution_count": 43,
   "id": "efb93f27-2a05-4d68-b787-58ac3c2f3991",
   "metadata": {},
   "outputs": [
    {
     "data": {
      "text/html": [
       "<div>\n",
       "<style scoped>\n",
       "    .dataframe tbody tr th:only-of-type {\n",
       "        vertical-align: middle;\n",
       "    }\n",
       "\n",
       "    .dataframe tbody tr th {\n",
       "        vertical-align: top;\n",
       "    }\n",
       "\n",
       "    .dataframe thead th {\n",
       "        text-align: right;\n",
       "    }\n",
       "</style>\n",
       "<table border=\"1\" class=\"dataframe\">\n",
       "  <thead>\n",
       "    <tr style=\"text-align: right;\">\n",
       "      <th>col_0</th>\n",
       "      <th>count</th>\n",
       "      <th>All</th>\n",
       "    </tr>\n",
       "    <tr>\n",
       "      <th>down_count</th>\n",
       "      <th></th>\n",
       "      <th></th>\n",
       "    </tr>\n",
       "  </thead>\n",
       "  <tbody>\n",
       "    <tr>\n",
       "      <th>0</th>\n",
       "      <td>33</td>\n",
       "      <td>33</td>\n",
       "    </tr>\n",
       "    <tr>\n",
       "      <th>1</th>\n",
       "      <td>12</td>\n",
       "      <td>12</td>\n",
       "    </tr>\n",
       "    <tr>\n",
       "      <th>2</th>\n",
       "      <td>11</td>\n",
       "      <td>11</td>\n",
       "    </tr>\n",
       "    <tr>\n",
       "      <th>3</th>\n",
       "      <td>3</td>\n",
       "      <td>3</td>\n",
       "    </tr>\n",
       "    <tr>\n",
       "      <th>4</th>\n",
       "      <td>1</td>\n",
       "      <td>1</td>\n",
       "    </tr>\n",
       "    <tr>\n",
       "      <th>All</th>\n",
       "      <td>60</td>\n",
       "      <td>60</td>\n",
       "    </tr>\n",
       "  </tbody>\n",
       "</table>\n",
       "</div>"
      ],
      "text/plain": [
       "col_0       count  All\n",
       "down_count            \n",
       "0              33   33\n",
       "1              12   12\n",
       "2              11   11\n",
       "3               3    3\n",
       "4               1    1\n",
       "All            60   60"
      ]
     },
     "execution_count": 43,
     "metadata": {},
     "output_type": "execute_result"
    }
   ],
   "source": [
    "cross_d = pd.crosstab(index=signals['down_count'], columns=['count'],\n",
    "#                              columns=df_down[\"found_by\"],\n",
    "                             margins=True)\n",
    "cross_d"
   ]
  },
  {
   "cell_type": "code",
   "execution_count": 45,
   "id": "fb81c63f-cef5-4e97-8522-c7540a56ee2e",
   "metadata": {},
   "outputs": [
    {
     "data": {
      "text/html": [
       "<div>\n",
       "<style scoped>\n",
       "    .dataframe tbody tr th:only-of-type {\n",
       "        vertical-align: middle;\n",
       "    }\n",
       "\n",
       "    .dataframe tbody tr th {\n",
       "        vertical-align: top;\n",
       "    }\n",
       "\n",
       "    .dataframe thead th {\n",
       "        text-align: right;\n",
       "    }\n",
       "</style>\n",
       "<table border=\"1\" class=\"dataframe\">\n",
       "  <thead>\n",
       "    <tr style=\"text-align: right;\">\n",
       "      <th>col_0</th>\n",
       "      <th>count</th>\n",
       "      <th>All</th>\n",
       "    </tr>\n",
       "    <tr>\n",
       "      <th>up_count</th>\n",
       "      <th></th>\n",
       "      <th></th>\n",
       "    </tr>\n",
       "  </thead>\n",
       "  <tbody>\n",
       "    <tr>\n",
       "      <th>0</th>\n",
       "      <td>11</td>\n",
       "      <td>11</td>\n",
       "    </tr>\n",
       "    <tr>\n",
       "      <th>1</th>\n",
       "      <td>9</td>\n",
       "      <td>9</td>\n",
       "    </tr>\n",
       "    <tr>\n",
       "      <th>2</th>\n",
       "      <td>11</td>\n",
       "      <td>11</td>\n",
       "    </tr>\n",
       "    <tr>\n",
       "      <th>3</th>\n",
       "      <td>4</td>\n",
       "      <td>4</td>\n",
       "    </tr>\n",
       "    <tr>\n",
       "      <th>4</th>\n",
       "      <td>9</td>\n",
       "      <td>9</td>\n",
       "    </tr>\n",
       "    <tr>\n",
       "      <th>5</th>\n",
       "      <td>5</td>\n",
       "      <td>5</td>\n",
       "    </tr>\n",
       "    <tr>\n",
       "      <th>6</th>\n",
       "      <td>3</td>\n",
       "      <td>3</td>\n",
       "    </tr>\n",
       "    <tr>\n",
       "      <th>7</th>\n",
       "      <td>5</td>\n",
       "      <td>5</td>\n",
       "    </tr>\n",
       "    <tr>\n",
       "      <th>8</th>\n",
       "      <td>1</td>\n",
       "      <td>1</td>\n",
       "    </tr>\n",
       "    <tr>\n",
       "      <th>9</th>\n",
       "      <td>1</td>\n",
       "      <td>1</td>\n",
       "    </tr>\n",
       "    <tr>\n",
       "      <th>17</th>\n",
       "      <td>1</td>\n",
       "      <td>1</td>\n",
       "    </tr>\n",
       "    <tr>\n",
       "      <th>All</th>\n",
       "      <td>60</td>\n",
       "      <td>60</td>\n",
       "    </tr>\n",
       "  </tbody>\n",
       "</table>\n",
       "</div>"
      ],
      "text/plain": [
       "col_0     count  All\n",
       "up_count            \n",
       "0            11   11\n",
       "1             9    9\n",
       "2            11   11\n",
       "3             4    4\n",
       "4             9    9\n",
       "5             5    5\n",
       "6             3    3\n",
       "7             5    5\n",
       "8             1    1\n",
       "9             1    1\n",
       "17            1    1\n",
       "All          60   60"
      ]
     },
     "execution_count": 45,
     "metadata": {},
     "output_type": "execute_result"
    }
   ],
   "source": [
    "cross_up = pd.crosstab(index=signals['up_count'], columns=['count'],\n",
    "#                              columns=df_down[\"found_by\"],\n",
    "                             margins=True)\n",
    "cross_up"
   ]
  },
  {
   "cell_type": "code",
   "execution_count": 26,
   "id": "e2ba5bc9-f26e-4f9e-9189-d4b09eb97dbb",
   "metadata": {},
   "outputs": [],
   "source": [
    "m1 = signals.loc[signals['mode'] == 1]\n",
    "m2 = signals.loc[signals['mode'] == 2]"
   ]
  },
  {
   "cell_type": "code",
   "execution_count": 22,
   "id": "09ef9440-eb9f-41f7-9f75-928e7291791f",
   "metadata": {},
   "outputs": [
    {
     "data": {
      "text/plain": [
       "33"
      ]
     },
     "execution_count": 22,
     "metadata": {},
     "output_type": "execute_result"
    }
   ],
   "source": [
    "signals.loc[signals['down_count'] == 0].shape[0]"
   ]
  },
  {
   "cell_type": "code",
   "execution_count": null,
   "id": "9e015e8c-b13d-43f5-980f-6995e2eb7359",
   "metadata": {},
   "outputs": [],
   "source": []
  },
  {
   "cell_type": "code",
   "execution_count": 33,
   "id": "f271c802-95eb-4ed0-be08-f88000ba4ced",
   "metadata": {},
   "outputs": [
    {
     "data": {
      "text/plain": [
       "11"
      ]
     },
     "execution_count": 33,
     "metadata": {},
     "output_type": "execute_result"
    }
   ],
   "source": [
    "signals.loc[signals['up_count'] == 0].shape[0]"
   ]
  },
  {
   "cell_type": "code",
   "execution_count": null,
   "id": "99a6a61a-0c1d-4428-aaa4-055bc2f28516",
   "metadata": {},
   "outputs": [],
   "source": []
  },
  {
   "cell_type": "code",
   "execution_count": 31,
   "id": "1428f00b-84f3-4bfc-971f-74433bc161a5",
   "metadata": {},
   "outputs": [
    {
     "data": {
      "text/plain": [
       "14"
      ]
     },
     "execution_count": 31,
     "metadata": {},
     "output_type": "execute_result"
    }
   ],
   "source": [
    "m1.loc[signals['down_count'] == 0].shape[0]"
   ]
  },
  {
   "cell_type": "code",
   "execution_count": 35,
   "id": "5ad062c4-99a2-41c2-b84d-a41fd6e79319",
   "metadata": {},
   "outputs": [
    {
     "data": {
      "text/plain": [
       "5"
      ]
     },
     "execution_count": 35,
     "metadata": {},
     "output_type": "execute_result"
    }
   ],
   "source": [
    "m1.loc[signals['up_count'] == 0].shape[0]"
   ]
  },
  {
   "cell_type": "code",
   "execution_count": 32,
   "id": "a76081fe-6179-475c-9b66-f2247110b85d",
   "metadata": {},
   "outputs": [
    {
     "data": {
      "text/plain": [
       "19"
      ]
     },
     "execution_count": 32,
     "metadata": {},
     "output_type": "execute_result"
    }
   ],
   "source": [
    "m2.loc[signals['down_count'] == 0].shape[0]"
   ]
  },
  {
   "cell_type": "code",
   "execution_count": 36,
   "id": "845e9293-13ec-4fe7-ad5b-7f229129cf61",
   "metadata": {},
   "outputs": [
    {
     "data": {
      "text/plain": [
       "6"
      ]
     },
     "execution_count": 36,
     "metadata": {},
     "output_type": "execute_result"
    }
   ],
   "source": [
    "m2.loc[signals['up_count'] == 0].shape[0]"
   ]
  },
  {
   "cell_type": "code",
   "execution_count": 48,
   "id": "551848bd-3f19-4aba-9818-e60e26e124e1",
   "metadata": {},
   "outputs": [
    {
     "data": {
      "text/plain": [
       "47"
      ]
     },
     "execution_count": 48,
     "metadata": {},
     "output_type": "execute_result"
    }
   ],
   "source": [
    "signal_count_sum['down_count'].sum()"
   ]
  },
  {
   "cell_type": "code",
   "execution_count": 49,
   "id": "5671ca62-a6eb-4d73-83ac-9fabf2046e06",
   "metadata": {},
   "outputs": [
    {
     "data": {
      "text/plain": [
       "191"
      ]
     },
     "execution_count": 49,
     "metadata": {},
     "output_type": "execute_result"
    }
   ],
   "source": [
    "signal_count_sum['up_count'].sum()"
   ]
  },
  {
   "cell_type": "code",
   "execution_count": 13,
   "id": "3a8ec985-8859-46dd-a6d8-fdfb1ffc9b9e",
   "metadata": {},
   "outputs": [],
   "source": [
    "d.loc[d['signal_down'],['signal_type']] = 'down'\n",
    "d.loc[d['signal_up'],['signal_type']] = 'up'"
   ]
  },
  {
   "cell_type": "code",
   "execution_count": 14,
   "id": "6c6d2209-a727-446f-b23b-2d944861f17b",
   "metadata": {},
   "outputs": [],
   "source": [
    "final_signals_data = d[['player_id', 'mode', 'signal_type', 'frame_number']]\n",
    "final_signals_data.to_csv('signals_pilot3.csv', index=False)\n"
   ]
  },
  {
   "cell_type": "code",
   "execution_count": 15,
   "id": "403435aa-c5de-43bc-ac40-f5ca6f3f7370",
   "metadata": {},
   "outputs": [
    {
     "data": {
      "text/html": [
       "<div>\n",
       "<style scoped>\n",
       "    .dataframe tbody tr th:only-of-type {\n",
       "        vertical-align: middle;\n",
       "    }\n",
       "\n",
       "    .dataframe tbody tr th {\n",
       "        vertical-align: top;\n",
       "    }\n",
       "\n",
       "    .dataframe thead th {\n",
       "        text-align: right;\n",
       "    }\n",
       "</style>\n",
       "<table border=\"1\" class=\"dataframe\">\n",
       "  <thead>\n",
       "    <tr style=\"text-align: right;\">\n",
       "      <th></th>\n",
       "      <th>player_id</th>\n",
       "      <th>mode</th>\n",
       "      <th>signal_type</th>\n",
       "      <th>frame_number</th>\n",
       "    </tr>\n",
       "  </thead>\n",
       "  <tbody>\n",
       "    <tr>\n",
       "      <th>371</th>\n",
       "      <td>5fc9a415aacaf14df94e6868</td>\n",
       "      <td>1</td>\n",
       "      <td>up</td>\n",
       "      <td>371</td>\n",
       "    </tr>\n",
       "    <tr>\n",
       "      <th>599</th>\n",
       "      <td>5fc9a415aacaf14df94e6868</td>\n",
       "      <td>1</td>\n",
       "      <td>down</td>\n",
       "      <td>599</td>\n",
       "    </tr>\n",
       "    <tr>\n",
       "      <th>1211</th>\n",
       "      <td>5fc9a415aacaf14df94e6868</td>\n",
       "      <td>1</td>\n",
       "      <td>down</td>\n",
       "      <td>1211</td>\n",
       "    </tr>\n",
       "    <tr>\n",
       "      <th>2028</th>\n",
       "      <td>5fc9a415aacaf14df94e6868</td>\n",
       "      <td>1</td>\n",
       "      <td>up</td>\n",
       "      <td>2028</td>\n",
       "    </tr>\n",
       "    <tr>\n",
       "      <th>636</th>\n",
       "      <td>5fc9a415aacaf14df94e6868</td>\n",
       "      <td>2</td>\n",
       "      <td>up</td>\n",
       "      <td>636</td>\n",
       "    </tr>\n",
       "    <tr>\n",
       "      <th>...</th>\n",
       "      <td>...</td>\n",
       "      <td>...</td>\n",
       "      <td>...</td>\n",
       "      <td>...</td>\n",
       "    </tr>\n",
       "    <tr>\n",
       "      <th>434</th>\n",
       "      <td>610aebd03f7daffc2fcce4b9</td>\n",
       "      <td>2</td>\n",
       "      <td>up</td>\n",
       "      <td>434</td>\n",
       "    </tr>\n",
       "    <tr>\n",
       "      <th>536</th>\n",
       "      <td>610aebd03f7daffc2fcce4b9</td>\n",
       "      <td>2</td>\n",
       "      <td>up</td>\n",
       "      <td>536</td>\n",
       "    </tr>\n",
       "    <tr>\n",
       "      <th>1204</th>\n",
       "      <td>610aebd03f7daffc2fcce4b9</td>\n",
       "      <td>2</td>\n",
       "      <td>up</td>\n",
       "      <td>1204</td>\n",
       "    </tr>\n",
       "    <tr>\n",
       "      <th>1952</th>\n",
       "      <td>610aebd03f7daffc2fcce4b9</td>\n",
       "      <td>2</td>\n",
       "      <td>up</td>\n",
       "      <td>1952</td>\n",
       "    </tr>\n",
       "    <tr>\n",
       "      <th>2186</th>\n",
       "      <td>610aebd03f7daffc2fcce4b9</td>\n",
       "      <td>2</td>\n",
       "      <td>up</td>\n",
       "      <td>2186</td>\n",
       "    </tr>\n",
       "  </tbody>\n",
       "</table>\n",
       "<p>238 rows × 4 columns</p>\n",
       "</div>"
      ],
      "text/plain": [
       "                     player_id  mode signal_type  frame_number\n",
       "371   5fc9a415aacaf14df94e6868     1          up           371\n",
       "599   5fc9a415aacaf14df94e6868     1        down           599\n",
       "1211  5fc9a415aacaf14df94e6868     1        down          1211\n",
       "2028  5fc9a415aacaf14df94e6868     1          up          2028\n",
       "636   5fc9a415aacaf14df94e6868     2          up           636\n",
       "...                        ...   ...         ...           ...\n",
       "434   610aebd03f7daffc2fcce4b9     2          up           434\n",
       "536   610aebd03f7daffc2fcce4b9     2          up           536\n",
       "1204  610aebd03f7daffc2fcce4b9     2          up          1204\n",
       "1952  610aebd03f7daffc2fcce4b9     2          up          1952\n",
       "2186  610aebd03f7daffc2fcce4b9     2          up          2186\n",
       "\n",
       "[238 rows x 4 columns]"
      ]
     },
     "execution_count": 15,
     "metadata": {},
     "output_type": "execute_result"
    }
   ],
   "source": [
    "final_signals_data"
   ]
  },
  {
   "cell_type": "code",
   "execution_count": null,
   "id": "21b3138e-b898-443b-ae19-696a7bfe5424",
   "metadata": {},
   "outputs": [],
   "source": []
  }
 ],
 "metadata": {
  "kernelspec": {
   "display_name": "Python 3 (ipykernel)",
   "language": "python",
   "name": "python3"
  },
  "language_info": {
   "codemirror_mode": {
    "name": "ipython",
    "version": 3
   },
   "file_extension": ".py",
   "mimetype": "text/x-python",
   "name": "python",
   "nbconvert_exporter": "python",
   "pygments_lexer": "ipython3",
   "version": "3.7.10"
  }
 },
 "nbformat": 4,
 "nbformat_minor": 5
}
