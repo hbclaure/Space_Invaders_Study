{
 "cells": [
  {
   "cell_type": "code",
   "execution_count": 2,
   "id": "11e587de-2160-46a6-8707-b1989a2213e3",
   "metadata": {},
   "outputs": [],
   "source": [
    "import json\n",
    "import pandas as pd\n",
    "import os\n",
    "from enum import IntEnum"
   ]
  },
  {
   "cell_type": "code",
   "execution_count": 4,
   "id": "99d1f5b0-ccfd-4a5d-bf1f-48dcd5867350",
   "metadata": {},
   "outputs": [],
   "source": [
    "PATH1 = \"../../data/pilot1/game_data/game_logs/\"\n",
    "PATH2 = \"../../data/pilot2/game_data/game_logs/\"\n",
    "# P60d520539b147c4acaf44b77_voff_m1_g1_t2021_7_10_1_4"
   ]
  },
  {
   "cell_type": "code",
   "execution_count": 3,
   "id": "9b9665e3-4871-42f3-b715-70b0a7a90b6b",
   "metadata": {},
   "outputs": [],
   "source": [
    "with open(PATH1 + 'P5ee6d2494fd04045b988a12d_voff_m1_g1_t2021_7_10_0_47.json', 'r') as f:\n",
    "    data = json.loads(f.read())\n",
    "df = pd.json_normalize(data, record_path = ['frames'])\n",
    "df['player_id'] = data['player_id']\n",
    "df['mode'] = data['mode']"
   ]
  },
  {
   "cell_type": "code",
   "execution_count": 4,
   "id": "d900c56c-fd3f-4e5e-b0d9-c180f24c0488",
   "metadata": {},
   "outputs": [],
   "source": [
    "# df.head()\n",
    "# df.info()"
   ]
  },
  {
   "cell_type": "code",
   "execution_count": 5,
   "id": "de29919d-adac-494a-8793-e82eb46ca27f",
   "metadata": {},
   "outputs": [],
   "source": [
    "# key events to log\n",
    "\n",
    "ai_deaths = []\n",
    "ai_shots = []\n",
    "right_to_left = []\n",
    "left_to_right = []\n",
    "\n",
    "up_signals = []\n",
    "down_signals = []\n",
    "\n",
    "ai_side_over = []\n",
    "player_side_over = []\n",
    "all_over = []\n",
    "\n",
    "shots = []\n",
    "\n",
    "final_frame = None"
   ]
  },
  {
   "cell_type": "code",
   "execution_count": 6,
   "id": "c4c9dd36-f90c-456b-ae04-607103054879",
   "metadata": {},
   "outputs": [],
   "source": [
    "ai_deaths = []\n",
    "for event in data['events']:\n",
    "    if event['killed'] == 'AI':\n",
    "        ai_deaths.append(event['frame'])\n",
    "    if event['killer'] == 'AI' and event['type'] == 'SHOT':\n",
    "        ai_shots.append(event['frame'])"
   ]
  },
  {
   "cell_type": "code",
   "execution_count": 7,
   "id": "b883f111-add4-406e-9614-8416fcc16a18",
   "metadata": {},
   "outputs": [],
   "source": [
    "# chose to ignore side changes that happened near AI_agent deaths; not sure if this is the best idea\n",
    "\n",
    "last_ai_x = 1000\n",
    "last_lives = 4\n",
    "last_left_enemies_count = 30\n",
    "last_right_enemies_count = 30\n",
    "recent_death = False\n",
    "\n",
    "right_to_left = []\n",
    "left_to_right = []\n",
    "\n",
    "\n",
    "for frame in data['frames']:\n",
    "    up = frame['signal_up']\n",
    "    down = frame['signal_down']\n",
    "    ai_x = frame['ai_position']\n",
    "    frame_num = frame['frame_number']\n",
    "    left_count = len(frame['enemies_left_positions'])\n",
    "    right_count = len(frame['enemies_right_positions'])\n",
    "    shoot = frame['ai_actual_action']['shoot']\n",
    "    \n",
    "    if last_left_enemies_count > 0 and left_count == 0:\n",
    "        player_side_over.append(frame_num)\n",
    "    if last_right_enemies_count > 0 and right_count == 0:\n",
    "        ai_side_over.append(frame_num)\n",
    "    if last_left_enemies_count + last_right_enemies_count > 0 and left_count == 0 and right_count == 0:\n",
    "        all_over.append(frame_num)\n",
    "    \n",
    "    if shoot:\n",
    "        shots.append(frame_num)\n",
    "        \n",
    "    if up:\n",
    "        up_signals.append(frame_num)\n",
    "    if down:\n",
    "        down_signals.append(frame_num)\n",
    "        \n",
    "    for n in ai_deaths:\n",
    "        if n < frame_num and n > frame_num - 50:\n",
    "            recent_death = True\n",
    "    if not recent_death:\n",
    "        if last_ai_x >= 400 and ai_x < 400:\n",
    "            right_to_left.append(frame_num)\n",
    "        if last_ai_x <= 400 and ai_x > 400:\n",
    "            left_to_right.append(frame_num)\n",
    "    last_ai_x = ai_x\n",
    "    last_left_enemies_count = left_count\n",
    "    last_right_enemies_count = right_count\n",
    "    \n",
    "final_frame = data['frames'][-1]['frame_number']\n",
    "        "
   ]
  },
  {
   "cell_type": "code",
   "execution_count": 8,
   "id": "25ab0621-5d15-4596-9654-7f2376f892e5",
   "metadata": {},
   "outputs": [
    {
     "name": "stdout",
     "output_type": "stream",
     "text": [
      "right to left: [813, 2050]\n",
      "left to right: [1209, 2988]\n",
      "up signals: [165, 480, 708, 1145, 1621, 2530, 2922, 3115]\n",
      "down signals: []\n",
      "ai_deaths: []\n",
      "ai_shots: [48, 90, 128, 166, 208, 303, 340, 421, 854, 921, 958, 993, 1030, 1113, 1267, 1304, 1339, 1375, 1411, 1488, 1584, 1624, 1696, 1736, 1818, 1862, 2227, 2272, 2319, 2453, 2625, 2739, 2783, 3054, 3115]\n",
      "player side over: [2790]\n",
      "ai side over: [3121]\n"
     ]
    }
   ],
   "source": [
    "print(f'right to left: {right_to_left}')\n",
    "print(f'left to right: {left_to_right}')\n",
    "print(f'up signals: {up_signals}')\n",
    "print(f'down signals: {down_signals}')\n",
    "print(f'ai_deaths: {ai_deaths}')\n",
    "print(f'ai_shots: {ai_shots}')\n",
    "print(f'player side over: {player_side_over}')\n",
    "print(f'ai side over: {ai_side_over}')"
   ]
  },
  {
   "cell_type": "code",
   "execution_count": 9,
   "id": "e0de5c5a-5c76-474a-8c31-f9732da4048e",
   "metadata": {},
   "outputs": [
    {
     "data": {
      "text/plain": [
       "int"
      ]
     },
     "execution_count": 9,
     "metadata": {},
     "output_type": "execute_result"
    }
   ],
   "source": [
    "type(data['frames'][0]['frame_number'])"
   ]
  },
  {
   "cell_type": "code",
   "execution_count": 10,
   "id": "0ebeb2ab-a5fc-4b1e-b438-ee333c417ed6",
   "metadata": {},
   "outputs": [
    {
     "data": {
      "text/plain": [
       "3121"
      ]
     },
     "execution_count": 10,
     "metadata": {},
     "output_type": "execute_result"
    }
   ],
   "source": [
    "final_frame"
   ]
  },
  {
   "cell_type": "code",
   "execution_count": 11,
   "id": "d34b945b-452e-4234-927e-a6f70eb9adf8",
   "metadata": {},
   "outputs": [],
   "source": [
    "def search_recent(l, frame_num, l_search_range=50, right=False, r_search_range=50, left=True):\n",
    "    for x in l:\n",
    "        if left and x <= frame_num and x > frame_num - l_search_range:\n",
    "            return x\n",
    "        if right and x >= frame_num and x < frame_num + r_search_range:\n",
    "            return x\n",
    "    return False\n",
    "\n",
    "def search_recent_df(df, col, frame_num, search_range=50, right=False, left=True):\n",
    "    d = None\n",
    "    if left and right:\n",
    "        d = df.loc[(df['frame_number'] > frame_num - search_range) & (df['frame_number'] < frame_num + search_range)]\n",
    "    elif left:\n",
    "        d = df.loc[(df['frame_number'] > frame_num - search_range) & (df['frame_number'] < frame_num)]\n",
    "    elif right:\n",
    "        d = df.loc[(df['frame_number'] < frame_num + search_range) & (df['frame_number'] > frame_num)]\n",
    "    if len(d.loc[d[col] == True]) > 0:\n",
    "        return True\n",
    "    return False\n",
    "            "
   ]
  },
  {
   "cell_type": "code",
   "execution_count": 12,
   "id": "dd9ddbc8-620f-40e5-8a95-d3dd20c9ffb5",
   "metadata": {},
   "outputs": [],
   "source": [
    "df['enemies_right_low'] = [z > 440 for z in [max([x[1] for x in y]) if len(y) > 0 else 0 for y in df['enemies_right_positions']]]\n",
    "df['enemies_right_low_2'] = [z > 400 for z in [max([x[1] for x in y]) if len(y) > 0 else 0 for y in df['enemies_right_positions']]]"
   ]
  },
  {
   "cell_type": "code",
   "execution_count": 13,
   "id": "f87cd739-624c-409f-8fd7-d26267284477",
   "metadata": {},
   "outputs": [],
   "source": [
    "class Code(IntEnum):\n",
    "    SHOT = 1\n",
    "    RIGHT_TO_LEFT = 2\n",
    "    LEFT_TO_RIGHT = 3\n",
    "    AI_DEATH = 4\n",
    "    INACTIVE = 5 #not shooting\n",
    "    REACTIVE = 6\n",
    "    AI_FINISH = 7\n",
    "    P_FINISH = 8\n",
    "    FINISH = 9\n",
    "    TESTING = 10\n",
    "    MISTAKE = 11\n",
    "    R_ENEMIES_LOW = 12\n",
    "    IGNORANT = 13 # on left side but right is low\n",
    "    "
   ]
  },
  {
   "cell_type": "code",
   "execution_count": 14,
   "id": "6b1a039c-13b7-448d-a042-8a9bbb0c9042",
   "metadata": {},
   "outputs": [],
   "source": [
    "def down_cat(frame_num, search_range):\n",
    "    codes = []\n",
    "    if search_recent(right_to_left, frame_num, search_range, True, 15):\n",
    "        codes.append(Code.RIGHT_TO_LEFT)\n",
    "    if search_recent(ai_deaths, frame_num, search_range):\n",
    "        codes.append(Code.AI_DEATH)\n",
    "    if not search_recent(shots, frame_num, search_range):\n",
    "        codes.append(Code.INACTIVE)\n",
    "    if search_recent_df(df, 'enemies_right_low', frame_num, search_range):\n",
    "        codes.append(Code.R_ENEMIES_LOW)\n",
    "    if (df.at[frame_num,'ai_position'] < 400) and (df.at[frame_num,'player_position'] < 400) and (df.at[frame_num, 'enemies_right_low_2'] == True):\n",
    "        codes.append(Code.IGNORANT)\n",
    "    return codes"
   ]
  },
  {
   "cell_type": "code",
   "execution_count": 15,
   "id": "c1bd5e72-9ac3-4af6-9107-4075de457db8",
   "metadata": {},
   "outputs": [],
   "source": [
    "def up_cat(frame_num, search_range):\n",
    "    codes = []\n",
    "    if search_recent(right_to_left, frame_num, search_range, True, 15):\n",
    "        codes.append(Code.RIGHT_TO_LEFT)\n",
    "    if search_recent(ai_shots, frame_num, search_range):\n",
    "        codes.append(Code.SHOT)\n",
    "    x = search_recent(shots, frame_num, search_range)\n",
    "    if x and not search_recent(shots, x, search_range):\n",
    "        codes.append(Code.REACTAIVE)\n",
    "    \n",
    "    a_o = search_recent(ai_side_over, frame_num, search_range, True, 30)\n",
    "    p_o = search_recent(player_side_over, frame_num, search_range, True, 30)\n",
    "    if a_o and df.at[a_o, 'ai_position'] > 400:\n",
    "        codes.append(Code.AI_FINISH)\n",
    "    if p_o and df.at[p_o, 'ai_position'] < 400:\n",
    "        codes.append(Code.P_FINISH)\n",
    "    if search_recent(all_over, frame_num, search_range, True, 30):\n",
    "        codes.append(Code.FINISH)\n",
    "        \n",
    "    return codes"
   ]
  },
  {
   "cell_type": "code",
   "execution_count": 6,
   "id": "cba024cb-169c-4bcd-ac52-9bb1acddcbee",
   "metadata": {},
   "outputs": [
    {
     "name": "stdout",
     "output_type": "stream",
     "text": [
      "loading: 5ee6d2494fd04045b988a12d mode1\n",
      "loading: 5ee6d2494fd04045b988a12d mode2\n",
      "loading: 60d520539b147c4acaf44b77 mode1\n",
      "loading: 60d520539b147c4acaf44b77 mode2\n",
      "loading: 60e5e62659dc1912bc43ed35 mode1\n",
      "loading: 60e5e62659dc1912bc43ed35 mode2\n",
      "loading: 60e7a66b2cb32cc90fade4e6 mode1\n",
      "loading: 60e7a66b2cb32cc90fade4e6 mode2\n"
     ]
    }
   ],
   "source": [
    "dfs = []\n",
    "for file in sorted(os.listdir(PATH1)):\n",
    "    if not file.startswith('.'):\n",
    "        with open(PATH1 + file, 'r') as f:\n",
    "            data = json.loads(f.read())\n",
    "        df = pd.json_normalize(data, record_path = ['frames'])\n",
    "        df['player_id'] = data['player_id']\n",
    "        df['mode'] = data['mode']\n",
    "        dfs.append(df[['player_id', 'mode', 'signal_up', 'signal_down', 'tried_signal_up', 'tried_signal_down', 'frame_number']][df['signal_up'] | df['signal_down']])\n",
    "        print('loading: {} mode{}'.format(data['player_id'], data['mode']))"
   ]
  },
  {
   "cell_type": "code",
   "execution_count": 16,
   "id": "eec4b3fc-0174-4290-afd9-17c251f501bf",
   "metadata": {},
   "outputs": [],
   "source": [
    "for signal_frame in down_signals:\n",
    "    print(f'{signal_frame}: {down_cat(signal_frame, 150)}')"
   ]
  },
  {
   "cell_type": "code",
   "execution_count": 17,
   "id": "5a8659b8-8d71-4933-9211-3f27a78489b6",
   "metadata": {},
   "outputs": [
    {
     "name": "stdout",
     "output_type": "stream",
     "text": [
      "165: [<Code.SHOT: 1>]\n",
      "480: [<Code.SHOT: 1>]\n",
      "708: []\n",
      "1145: [<Code.SHOT: 1>]\n",
      "1621: [<Code.SHOT: 1>]\n",
      "2530: [<Code.SHOT: 1>]\n",
      "2922: [<Code.SHOT: 1>, <Code.P_FINISH: 8>]\n",
      "3115: [<Code.SHOT: 1>, <Code.AI_FINISH: 7>, <Code.FINISH: 9>]\n"
     ]
    }
   ],
   "source": [
    "for signal_frame in up_signals:\n",
    "    print(f'{signal_frame}: {up_cat(signal_frame, 150)}')"
   ]
  }
 ],
 "metadata": {
  "kernelspec": {
   "display_name": "Python 3 (ipykernel)",
   "language": "python",
   "name": "python3"
  },
  "language_info": {
   "codemirror_mode": {
    "name": "ipython",
    "version": 3
   },
   "file_extension": ".py",
   "mimetype": "text/x-python",
   "name": "python",
   "nbconvert_exporter": "python",
   "pygments_lexer": "ipython3",
   "version": "3.7.10"
  }
 },
 "nbformat": 4,
 "nbformat_minor": 5
}
