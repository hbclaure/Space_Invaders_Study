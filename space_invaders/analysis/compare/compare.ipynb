{
 "cells": [
  {
   "cell_type": "code",
   "execution_count": 1,
   "id": "22f09edb-4d57-4b1a-8868-27e34e96b725",
   "metadata": {},
   "outputs": [],
   "source": [
    "import pandas as pd\n",
    "import json\n",
    "import os\n",
    "import numpy as np"
   ]
  },
  {
   "cell_type": "code",
   "execution_count": 2,
   "id": "36dea6ea-4ca6-4e5b-b8b0-0be6d145a4a3",
   "metadata": {},
   "outputs": [],
   "source": [
    "Col1 = 'code'\n",
    "Col2 = 'num_code'"
   ]
  },
  {
   "cell_type": "code",
   "execution_count": 3,
   "id": "275326c5-f96b-46d8-8210-0612c70c2716",
   "metadata": {},
   "outputs": [],
   "source": [
    "df = pd.read_csv('p2_signals.csv')"
   ]
  },
  {
   "cell_type": "code",
   "execution_count": 4,
   "id": "a03d0fb9-1f2a-4a3d-9cc9-3f9b4ceccedc",
   "metadata": {},
   "outputs": [],
   "source": [
    "df = df.astype(object)"
   ]
  },
  {
   "cell_type": "code",
   "execution_count": 5,
   "id": "2113831a-2c1c-4fcf-b531-87fb64f22c92",
   "metadata": {},
   "outputs": [],
   "source": [
    "def str_to_array(s):\n",
    "    \"\"\" convert '['1,2,3']' to [1,2,3] \"\"\"\n",
    "    no_brackets = s[1:-1]\n",
    "    return list(map(int, np.array(no_brackets.split(','))))"
   ]
  },
  {
   "cell_type": "code",
   "execution_count": 6,
   "id": "34c376f7-be1d-4b74-be2a-128921034f7e",
   "metadata": {},
   "outputs": [],
   "source": [
    "def per_match(a,b):\n",
    "    \"\"\" \n",
    "        check how much of array a is in array b \n",
    "        returns percentage of match\n",
    "    \"\"\"\n",
    "    matches = 0\n",
    "    if 10 in a or 11 in a:\n",
    "        if 10 in a:\n",
    "            a.remove(10)\n",
    "        if 11 in a:\n",
    "            a.remove(11)\n",
    "        a.append(999)\n",
    "    for x in a:\n",
    "        if x in b:\n",
    "            matches += 1\n",
    "    return matches / len(a)\n",
    "            \n",
    "    "
   ]
  },
  {
   "cell_type": "code",
   "execution_count": 7,
   "id": "edb49dd4-4965-4f68-be23-a2c97d4491c7",
   "metadata": {},
   "outputs": [],
   "source": [
    "def per_false_match(a,b):\n",
    "    \"\"\" \n",
    "        check how many false positives in b\n",
    "    \"\"\"\n",
    "    err = 0\n",
    "    for x in b:\n",
    "        if x not in a:\n",
    "            err += 1\n",
    "    return err / len(b)\n",
    "            "
   ]
  },
  {
   "cell_type": "code",
   "execution_count": 8,
   "id": "889175cc-85f8-494e-b225-07b7c66a7c52",
   "metadata": {},
   "outputs": [
    {
     "data": {
      "text/plain": [
       "1.0"
      ]
     },
     "execution_count": 8,
     "metadata": {},
     "output_type": "execute_result"
    }
   ],
   "source": [
    "per_match([2,3,1],[1,2,3])"
   ]
  },
  {
   "cell_type": "code",
   "execution_count": 9,
   "id": "70aef13a-cb9b-4300-ac4a-d412dcd169bb",
   "metadata": {},
   "outputs": [],
   "source": [
    "def code_check(df):\n",
    "    df1 = df.copy()\n",
    "    # change all 'unknown' to 999\n",
    "    df1.loc[df1['num_code'] == '[]', ['num_code']] = '[999]'\n",
    "\n",
    "    df1['code'] = df1['code'].map(str_to_array)\n",
    "    df1['num_code'] = df1['num_code'].map(str_to_array)\n",
    "\n",
    "    df1['match_pct'] = df1.apply(lambda x: per_match(x.code, x.num_code), axis=1)\n",
    "    df1['false_pct'] = df1.apply(lambda x: per_false_match(x.code, x.num_code), axis=1)\n",
    "\n",
    "    df1['match_any'] = df1['match_pct'].apply(lambda x: 1 if x > 0 else 0)\n",
    "    df1['false_any'] = df1['false_pct'].apply(lambda x: 1 if x > 0 else 0)\n",
    "    \n",
    "    return {'match_any_pct': round(df1.match_pct.mean(), 2),\n",
    "            'avg_match_pct': round(df1.match_any.mean(), 2),\n",
    "            'false_any_pct': round(df1.false_any.mean(), 2),\n",
    "            'avg_false_pct': round(df1.false_pct.mean(), 2)}"
   ]
  },
  {
   "cell_type": "code",
   "execution_count": 10,
   "id": "4587971a-e9e5-45f4-abc9-d0d8ca6763e5",
   "metadata": {},
   "outputs": [
    {
     "data": {
      "text/plain": [
       "{'match_any_pct': 0.81,\n",
       " 'avg_match_pct': 0.93,\n",
       " 'false_any_pct': 0.09,\n",
       " 'avg_false_pct': 0.08}"
      ]
     },
     "execution_count": 10,
     "metadata": {},
     "output_type": "execute_result"
    }
   ],
   "source": [
    "code_check(df)"
   ]
  },
  {
   "cell_type": "code",
   "execution_count": null,
   "id": "3f220362-2c7f-49eb-9ec2-7460c5a01314",
   "metadata": {},
   "outputs": [],
   "source": []
  },
  {
   "cell_type": "code",
   "execution_count": null,
   "id": "27b336f0-db9e-4cfe-9b3f-dcf6cb66d3e1",
   "metadata": {},
   "outputs": [],
   "source": []
  },
  {
   "cell_type": "code",
   "execution_count": null,
   "id": "c17008b7-cd0f-4b50-a0ae-1570a665dfce",
   "metadata": {},
   "outputs": [],
   "source": []
  }
 ],
 "metadata": {
  "kernelspec": {
   "display_name": "Python 3 (ipykernel)",
   "language": "python",
   "name": "python3"
  },
  "language_info": {
   "codemirror_mode": {
    "name": "ipython",
    "version": 3
   },
   "file_extension": ".py",
   "mimetype": "text/x-python",
   "name": "python",
   "nbconvert_exporter": "python",
   "pygments_lexer": "ipython3",
   "version": "3.7.10"
  }
 },
 "nbformat": 4,
 "nbformat_minor": 5
}
